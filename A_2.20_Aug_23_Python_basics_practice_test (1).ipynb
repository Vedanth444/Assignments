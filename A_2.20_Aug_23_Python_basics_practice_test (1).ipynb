{
 "cells": [
  {
   "cell_type": "markdown",
   "id": "94ef1fd9-5b20-4e2c-ba91-aba8d8fd1a17",
   "metadata": {},
   "source": [
    "## Topic: String based assignment problems:\n"
   ]
  },
  {
   "cell_type": "markdown",
   "id": "0236f35f-4205-4d03-9b45-289f25138711",
   "metadata": {
    "tags": []
   },
   "source": [
    "### Q1. Write a program to reverse a string"
   ]
  },
  {
   "cell_type": "code",
   "execution_count": 6,
   "id": "ad75f119-8c3e-45b0-9edc-32c955f66a59",
   "metadata": {},
   "outputs": [
    {
     "data": {
      "text/plain": [
       "'htnadeV'"
      ]
     },
     "execution_count": 6,
     "metadata": {},
     "output_type": "execute_result"
    }
   ],
   "source": [
    "a='Vedanth'\n",
    "a[-1:-8:-1]"
   ]
  },
  {
   "cell_type": "markdown",
   "id": "5b64377a-196f-4f76-9636-ff078d88b56f",
   "metadata": {
    "tags": []
   },
   "source": [
    "### Q2. Check if a string is a palindrome."
   ]
  },
  {
   "cell_type": "code",
   "execution_count": 39,
   "id": "08d97bc8-5d7c-49d7-ba6b-c4da283d07ff",
   "metadata": {},
   "outputs": [
    {
     "name": "stdout",
     "output_type": "stream",
     "text": [
      "String a is a palindrome\n"
     ]
    }
   ],
   "source": [
    "a='STSvSTS'\n",
    "b=a[-1:-8:-1]\n",
    "\n",
    "if a==b:\n",
    "    print('String a is a palindrome')\n",
    "else:\n",
    "    print('String a is not a palindrome')"
   ]
  },
  {
   "cell_type": "markdown",
   "id": "27a1a700-33aa-40df-b1d8-5aa8bbe6119e",
   "metadata": {},
   "source": [
    "### Q3. Convert a string to uppercase."
   ]
  },
  {
   "cell_type": "code",
   "execution_count": 36,
   "id": "c6ee38ca-1119-4b67-b0a4-f530644ed619",
   "metadata": {},
   "outputs": [
    {
     "data": {
      "text/plain": [
       "'VEDANTH'"
      ]
     },
     "execution_count": 36,
     "metadata": {},
     "output_type": "execute_result"
    }
   ],
   "source": [
    "v='vedanth'\n",
    "v.upper()"
   ]
  },
  {
   "cell_type": "markdown",
   "id": "6f273cc6-7561-4a24-868d-040a0eb0f7c4",
   "metadata": {},
   "source": [
    "### Q4. Convert a string to lowercase."
   ]
  },
  {
   "cell_type": "code",
   "execution_count": 37,
   "id": "ec233c6a-4a89-41a7-9e50-4d25b4e81a56",
   "metadata": {},
   "outputs": [
    {
     "data": {
      "text/plain": [
       "'ranganath'"
      ]
     },
     "execution_count": 37,
     "metadata": {},
     "output_type": "execute_result"
    }
   ],
   "source": [
    "r='RANGANATH'\n",
    "r.lower()"
   ]
  },
  {
   "cell_type": "markdown",
   "id": "052c63b8-cd55-4630-8400-7eda413f0a7c",
   "metadata": {},
   "source": [
    "### Q5. Count the number of vowels in a string."
   ]
  },
  {
   "cell_type": "code",
   "execution_count": 72,
   "id": "bdb1cda1-6d08-451d-9af7-652cd03d5971",
   "metadata": {},
   "outputs": [
    {
     "name": "stdout",
     "output_type": "stream",
     "text": [
      "a = 3\n",
      "e = 1\n",
      "i = 2\n",
      "o = 1\n",
      "u = 1\n"
     ]
    }
   ],
   "source": [
    "x='India is a great country' \n",
    "vowel1= x.count('a')\n",
    "vowel2= x.count('e')\n",
    "vowel3= x.count('i')\n",
    "vowel4= x.count('o')\n",
    "vowel5= x.count('u')\n",
    "\n",
    "print('a =', vowel1)\n",
    "print('e =', vowel2)\n",
    "print('i =', vowel3)\n",
    "print('o =', vowel4)\n",
    "print('u =', vowel5)"
   ]
  },
  {
   "cell_type": "markdown",
   "id": "8a14ce9c-ced2-4048-a389-daff2584ea61",
   "metadata": {},
   "source": [
    "### Q6. Count the number of consonants in a string."
   ]
  },
  {
   "cell_type": "code",
   "execution_count": 15,
   "id": "6ec051db-63ad-4c1f-bce5-f9726aa7bd58",
   "metadata": {},
   "outputs": [
    {
     "name": "stdout",
     "output_type": "stream",
     "text": [
      "Total number of Consonants in string a is: 32\n"
     ]
    }
   ],
   "source": [
    "a='The quick brown fox jumps over the lazy dog, and lazy dog die'\n",
    "    \n",
    "consonants = \"bcdfghjklmnpqrstvwxyzBCDFGHJKLMNPQRSTVWXYZ\"\n",
    "count = 0\n",
    "    \n",
    "for x in a:\n",
    "    if x in consonants:\n",
    "        count += 1\n",
    "print('Total number of Consonants in string a is:', count)"
   ]
  },
  {
   "cell_type": "markdown",
   "id": "ea29b94b-e792-4769-b7a6-05f4fa680214",
   "metadata": {},
   "source": [
    "### Q7. Remove all whitespaces from a string."
   ]
  },
  {
   "cell_type": "code",
   "execution_count": 26,
   "id": "ced43bac-4dd4-4c17-9a8b-6b9fc0076429",
   "metadata": {},
   "outputs": [
    {
     "name": "stdout",
     "output_type": "stream",
     "text": [
      "Vedanth\n"
     ]
    }
   ],
   "source": [
    "string='   Ve   da   n  th   '\n",
    "x=''.join(string.split())\n",
    "print(x)"
   ]
  },
  {
   "cell_type": "markdown",
   "id": "b2ddbed6-bf86-4213-b766-12bd4ee55ed1",
   "metadata": {},
   "source": [
    "### Q8. Find the length of a string without using the `len()` function."
   ]
  },
  {
   "cell_type": "code",
   "execution_count": 27,
   "id": "1ace175b-bff5-453f-b9e3-d09a33c131ca",
   "metadata": {},
   "outputs": [
    {
     "name": "stdout",
     "output_type": "stream",
     "text": [
      "Number of characters in string j is: 6\n"
     ]
    }
   ],
   "source": [
    "j='Python'\n",
    "\n",
    "count=0\n",
    "for x in j:\n",
    "    count+=1\n",
    "print('Number of characters in string j is:', count) "
   ]
  },
  {
   "cell_type": "markdown",
   "id": "70aed6e7-48d9-4c36-8c78-73c8afac1e0c",
   "metadata": {},
   "source": [
    "### Q9. Check if a string contains a specific word."
   ]
  },
  {
   "cell_type": "code",
   "execution_count": 41,
   "id": "e95ee16d-a7d7-4b12-ae8d-9df102abd94a",
   "metadata": {},
   "outputs": [
    {
     "name": "stdout",
     "output_type": "stream",
     "text": [
      "string r have the word: Indians\n"
     ]
    }
   ],
   "source": [
    "r='Indians will lead the world forever'\n",
    "\n",
    "if 'never' in r:\n",
    "    print('string r have the word never')\n",
    "elif 'Indians' in r:\n",
    "    print('string r have the word: Indians')\n",
    "else: \n",
    "    print('Checked for the word')"
   ]
  },
  {
   "cell_type": "markdown",
   "id": "6df08e77-155d-482b-b16f-ab046a1866c2",
   "metadata": {},
   "source": [
    "### Q10. Replace a word in a string with another word"
   ]
  },
  {
   "cell_type": "code",
   "execution_count": 60,
   "id": "448801d1-c07a-4890-ba21-afd20a355647",
   "metadata": {},
   "outputs": [
    {
     "data": {
      "text/plain": [
       "'Indians are good at coding'"
      ]
     },
     "execution_count": 60,
     "metadata": {},
     "output_type": "execute_result"
    }
   ],
   "source": [
    "s='Indians are bad at coding'\n",
    "s.replace('bad','good')"
   ]
  },
  {
   "cell_type": "markdown",
   "id": "c9b184f1-0def-49d2-8365-6eace49d51a0",
   "metadata": {},
   "source": [
    "### Q11. Count the occurrences of a word in a string."
   ]
  },
  {
   "cell_type": "code",
   "execution_count": 76,
   "id": "bf350480-8a5c-4741-997b-0ccaf0986265",
   "metadata": {},
   "outputs": [
    {
     "name": "stdout",
     "output_type": "stream",
     "text": [
      "string q have the word fire repeated : 9 times\n"
     ]
    }
   ],
   "source": [
    "q='If you fire the fire, fire will fire you, if you do not fire the fire, still the fire will fire you, beause it is the fire'\n",
    "\n",
    "count= q.count('fire')\n",
    "print('string q have the word fire repeated :', count, 'times')\n"
   ]
  },
  {
   "cell_type": "markdown",
   "id": "60dce245-30b3-47f0-810e-1500d4a6b513",
   "metadata": {},
   "source": [
    "### Q12. Find the first occurrence of a word in a string."
   ]
  },
  {
   "cell_type": "code",
   "execution_count": 100,
   "id": "79f97fdf-730b-4ef5-be2a-988eff9f6934",
   "metadata": {},
   "outputs": [
    {
     "name": "stdout",
     "output_type": "stream",
     "text": [
      "The first occurance of word pwskills is at index: 41\n"
     ]
    }
   ],
   "source": [
    "s='A ool of talents dedicatedly working for pwskills students who trust in pwskills to learn software development'\n",
    "h=s.find('pwskills')\n",
    "print('The first occurance of word pwskills is at index:', h)"
   ]
  },
  {
   "cell_type": "markdown",
   "id": "7619c763-eccf-4505-899f-ba6ab9a97fb8",
   "metadata": {},
   "source": [
    "### Q13. Find the last occurrence of a word in a string."
   ]
  },
  {
   "cell_type": "code",
   "execution_count": 101,
   "id": "28728f7d-e6fd-43e2-ab29-61514c2746bf",
   "metadata": {},
   "outputs": [
    {
     "name": "stdout",
     "output_type": "stream",
     "text": [
      "The last occurance of word pwskills is at index: 76\n"
     ]
    }
   ],
   "source": [
    "s='is a pool of talents dedicatedly working for pwskills students who trust in pwskills to learn software development'\n",
    "h=s.rfind('pwskills')\n",
    "print('The last occurance of word pwskills is at index:', h)"
   ]
  },
  {
   "cell_type": "markdown",
   "id": "2088a660-c3ae-4f6d-b1e1-29a9b02084b3",
   "metadata": {},
   "source": [
    "### Q14. Split a string into a list of words."
   ]
  },
  {
   "cell_type": "code",
   "execution_count": 103,
   "id": "bbb3031d-dea9-43d9-a6a8-7aee7b964de8",
   "metadata": {},
   "outputs": [
    {
     "data": {
      "text/plain": [
       "['Coding', 'is', 'intersting']"
      ]
     },
     "execution_count": 103,
     "metadata": {},
     "output_type": "execute_result"
    }
   ],
   "source": [
    "z='Coding is intersting'\n",
    "z.split()"
   ]
  },
  {
   "cell_type": "markdown",
   "id": "c0b06e47-3d8b-4084-b140-58bfdce6b124",
   "metadata": {},
   "source": [
    "### Q 15. Join a list of words into a string."
   ]
  },
  {
   "cell_type": "code",
   "execution_count": 108,
   "id": "4267650b-a9a3-4e74-8b35-1ec1fec6d58c",
   "metadata": {},
   "outputs": [
    {
     "name": "stdout",
     "output_type": "stream",
     "text": [
      "string with words joined together is: Vedanth is trying to learn python\n"
     ]
    }
   ],
   "source": [
    "l=['Vedanth', 'is', 'trying', 'to', 'learn', 'python']\n",
    "m=' '.join(l)\n",
    "print('string with words joined together is:', m)"
   ]
  },
  {
   "cell_type": "markdown",
   "id": "5bc7a1e7-031a-4410-9799-311ade1f47e8",
   "metadata": {},
   "source": [
    "### Q16. Convert a string where words are separated by spaces to one where words are separated by underscores."
   ]
  },
  {
   "cell_type": "code",
   "execution_count": 1,
   "id": "a061203c-4b29-4ee6-bd19-17521cea9a78",
   "metadata": {},
   "outputs": [
    {
     "data": {
      "text/plain": [
       "'Python_Basics_Learning'"
      ]
     },
     "execution_count": 1,
     "metadata": {},
     "output_type": "execute_result"
    }
   ],
   "source": [
    "s='Python Basics Learning'\n",
    "s.replace(' ', '_')"
   ]
  },
  {
   "cell_type": "markdown",
   "id": "3cfef14b-7ae7-4107-90cc-e406c3669d1c",
   "metadata": {},
   "source": [
    "### Q17. Check if a string starts with a specific word or phrase."
   ]
  },
  {
   "cell_type": "code",
   "execution_count": 21,
   "id": "28870835-35e6-4e39-8ffd-81aa31a82034",
   "metadata": {},
   "outputs": [
    {
     "name": "stdout",
     "output_type": "stream",
     "text": [
      "String starts with word - Longer\n"
     ]
    }
   ],
   "source": [
    "string='Longer the assignment, better will be learning'\n",
    "\n",
    "if string.startswith('Longer'):\n",
    "    print('String starts with word - Longer')\n",
    "else:\n",
    "    print('String does not start with word - Longer')"
   ]
  },
  {
   "cell_type": "markdown",
   "id": "0c68dfbc-9830-46df-814b-bee69cd9b248",
   "metadata": {},
   "source": [
    "### Q18. Check if a string ends with a specific word or phrase."
   ]
  },
  {
   "cell_type": "code",
   "execution_count": 22,
   "id": "7d264bac-d416-4678-8611-edf3417d6f95",
   "metadata": {},
   "outputs": [
    {
     "name": "stdout",
     "output_type": "stream",
     "text": [
      "String ends with word - learning\n"
     ]
    }
   ],
   "source": [
    "a='Longer the assignment, better will be learning'\n",
    "\n",
    "if a.endswith('learning'):\n",
    "    print('String ends with word - learning')\n",
    "else:\n",
    "    print('String does not end with word - learning')"
   ]
  },
  {
   "cell_type": "markdown",
   "id": "2c0c5c31-c81d-468f-b310-08fb95de6628",
   "metadata": {},
   "source": [
    "### Q19. Convert a string to title case (e.g., \"hello world\" to \"Hello World\")."
   ]
  },
  {
   "cell_type": "code",
   "execution_count": 23,
   "id": "717fcea3-c8c3-4d77-945a-d1bcfc8e4945",
   "metadata": {},
   "outputs": [
    {
     "data": {
      "text/plain": [
       "'Hello World'"
      ]
     },
     "execution_count": 23,
     "metadata": {},
     "output_type": "execute_result"
    }
   ],
   "source": [
    "string='hello world'\n",
    "string.title()"
   ]
  },
  {
   "cell_type": "markdown",
   "id": "4cf5f06b-f0d2-41bc-92a1-94b8c8ce94f3",
   "metadata": {},
   "source": [
    "### Q20. Find the longest word in a string."
   ]
  },
  {
   "cell_type": "code",
   "execution_count": 27,
   "id": "b17d04f2-70fa-4da8-89ba-2b7ff5c65215",
   "metadata": {},
   "outputs": [
    {
     "name": "stdout",
     "output_type": "stream",
     "text": [
      "Longest word is: multilingual\n"
     ]
    }
   ],
   "source": [
    "q='Bangalore has a multilingual crowd of talents'\n",
    "\n",
    "r=q.split()\n",
    "\n",
    "longest_word=r[0]\n",
    "\n",
    "for s in r:\n",
    "    if len(s)>len(longest_word):\n",
    "        Longest_word=s\n",
    "        print('Longest word is:', Longest_word)\n"
   ]
  },
  {
   "cell_type": "markdown",
   "id": "9cfa0ded-fb16-4672-b448-5dea05527db3",
   "metadata": {},
   "source": [
    "### Q21. Find the shortest word in a string"
   ]
  },
  {
   "cell_type": "code",
   "execution_count": 30,
   "id": "7d4ca7cf-63cc-4f79-ad3b-0965331009a6",
   "metadata": {},
   "outputs": [
    {
     "name": "stdout",
     "output_type": "stream",
     "text": [
      "shortest word is: is\n"
     ]
    }
   ],
   "source": [
    "q='Coding is not easy unless one keep practicing'\n",
    "\n",
    "r=q.split()\n",
    "\n",
    "shortest_word=r[0]\n",
    "\n",
    "for s in r:\n",
    "    if len(s)<len(shortest_word):\n",
    "        shortest_word=s\n",
    "        print('shortest word is:', shortest_word)"
   ]
  },
  {
   "cell_type": "markdown",
   "id": "c0ea081a-f439-48f8-8d72-40854ed692b8",
   "metadata": {},
   "source": [
    "### Q22. Reverse the order of words in a string."
   ]
  },
  {
   "cell_type": "code",
   "execution_count": 40,
   "id": "20b9b4e6-ba51-4ebb-bdba-c3dfcd83ecd1",
   "metadata": {},
   "outputs": [
    {
     "name": "stdout",
     "output_type": "stream",
     "text": [
      "language coding a is Python\n"
     ]
    }
   ],
   "source": [
    "line='Python is a coding language'\n",
    "h=line.split()\n",
    "j=h[-1:-6:-1]\n",
    "reverse_line=' '.join(j)\n",
    "print(reverse_line)"
   ]
  },
  {
   "cell_type": "markdown",
   "id": "d91bb7fa-36da-4bc5-91e7-9b822fa6aaf4",
   "metadata": {},
   "source": [
    "### Q23. Check if a string is alphanumeric."
   ]
  },
  {
   "cell_type": "code",
   "execution_count": 44,
   "id": "4003da69-a6b2-43fe-9eea-f52f453c2efa",
   "metadata": {},
   "outputs": [
    {
     "data": {
      "text/plain": [
       "True"
      ]
     },
     "execution_count": 44,
     "metadata": {},
     "output_type": "execute_result"
    }
   ],
   "source": [
    "statement='400million'\n",
    "statement.isalnum()"
   ]
  },
  {
   "cell_type": "markdown",
   "id": "418512f9-54e0-4ecb-be21-24cdc42cf495",
   "metadata": {},
   "source": [
    "### Q24. Extract all digits from a string."
   ]
  },
  {
   "cell_type": "code",
   "execution_count": 52,
   "id": "f6e19bbd-da1e-48a5-abe2-a0ca0c44026a",
   "metadata": {},
   "outputs": [
    {
     "name": "stdout",
     "output_type": "stream",
     "text": [
      "['1', '2', '9', '9', '0', '9', '0', '9', '0', '9', '0', '9']\n"
     ]
    }
   ],
   "source": [
    "d='Price is $ 12.9909090909'\n",
    "t= [char for char in d if char.isdigit()]\n",
    "print(t)"
   ]
  },
  {
   "cell_type": "markdown",
   "id": "013c0280-f6cd-44ce-9949-3e33cbe0b046",
   "metadata": {},
   "source": [
    "### Q25. Extract all alphabets from a string."
   ]
  },
  {
   "cell_type": "code",
   "execution_count": 64,
   "id": "55c0b842-a33d-4ebb-8253-212039f99de8",
   "metadata": {},
   "outputs": [
    {
     "name": "stdout",
     "output_type": "stream",
     "text": [
      "['E', 'l', 'e', 'c', 't', 'r', 'o', 'm', 'e', 'c', 'h', 'a', 'n', 'i', 'c', 'a', 'l']\n"
     ]
    }
   ],
   "source": [
    "tag='Electromechanical1990'\n",
    "u=[char for char in tag if char.isalpha()]\n",
    "print(u)"
   ]
  },
  {
   "cell_type": "markdown",
   "id": "d32c595b-59a1-404d-9011-ef24c26206e2",
   "metadata": {},
   "source": [
    "### Q26. Count the number of uppercase letters in a stirng"
   ]
  },
  {
   "cell_type": "code",
   "execution_count": 88,
   "id": "bfa3c456-0366-4c89-bc8c-d1379c16b78d",
   "metadata": {},
   "outputs": [
    {
     "name": "stdout",
     "output_type": "stream",
     "text": [
      "Number of uppercase letters in string: 4\n"
     ]
    }
   ],
   "source": [
    "string='ThunDerStorM'\n",
    "\n",
    "count=0\n",
    "for char in string:\n",
    "    if char.isupper():\n",
    "        count+=1\n",
    "print('Number of uppercase letters in string:', count)\n"
   ]
  },
  {
   "cell_type": "markdown",
   "id": "6aaf2eba-3fe4-4b86-b849-f8c4a3e2de59",
   "metadata": {},
   "source": [
    "### Q27. Count the number of lowercase letters in a stirng"
   ]
  },
  {
   "cell_type": "code",
   "execution_count": 90,
   "id": "85114a0c-dd86-467f-8f07-bae17d1fa49a",
   "metadata": {},
   "outputs": [
    {
     "name": "stdout",
     "output_type": "stream",
     "text": [
      "Number of lowercase letters in string: 8\n"
     ]
    }
   ],
   "source": [
    "string='ThunDerStorM'\n",
    "\n",
    "count=0\n",
    "for char in string:\n",
    "    if char.islower():\n",
    "        count+=1\n",
    "print('Number of lowercase letters in string:', count)"
   ]
  },
  {
   "cell_type": "markdown",
   "id": "99ba5eb1-d5ae-46e1-b04c-c65255ebdabd",
   "metadata": {},
   "source": [
    "### Q28. Swap the case of each character in a string."
   ]
  },
  {
   "cell_type": "code",
   "execution_count": 91,
   "id": "ab69a1df-c121-4df6-a8f1-81877baa06f8",
   "metadata": {},
   "outputs": [
    {
     "data": {
      "text/plain": [
       "'uPPeRcAsE'"
      ]
     },
     "execution_count": 91,
     "metadata": {},
     "output_type": "execute_result"
    }
   ],
   "source": [
    "stat='UppErCaSe'\n",
    "stat.swapcase()"
   ]
  },
  {
   "cell_type": "markdown",
   "id": "81122665-af50-47e1-975a-ed29faed9630",
   "metadata": {},
   "source": [
    "### Q29. Remove a specific word from a string."
   ]
  },
  {
   "cell_type": "code",
   "execution_count": 103,
   "id": "00fee9fb-5caf-4cde-9bc9-d1f0e64ba488",
   "metadata": {},
   "outputs": [
    {
     "data": {
      "text/plain": [
       "'I want to remove a  from this string'"
      ]
     },
     "execution_count": 103,
     "metadata": {},
     "output_type": "execute_result"
    }
   ],
   "source": [
    "data='I want to remove a word from this string'\n",
    "data.replace('word','') #removing 'word' from string"
   ]
  },
  {
   "cell_type": "markdown",
   "id": "a254090b-ac59-466f-8b94-2534241a8842",
   "metadata": {},
   "source": [
    "### Q30. Check if a string is a valid email address."
   ]
  },
  {
   "cell_type": "code",
   "execution_count": 153,
   "id": "e75406cb-6ce7-41d0-b48a-e5f4e282ee12",
   "metadata": {},
   "outputs": [
    {
     "name": "stdout",
     "output_type": "stream",
     "text": [
      "Vedanth444@yahoo.in is a valid email address.\n"
     ]
    }
   ],
   "source": [
    "def valid_email(email):\n",
    "    \n",
    "    if '@' not in email:\n",
    "        return False\n",
    "    \n",
    "    main, domain= email.split('@')\n",
    "    \n",
    "    if not main or not domain:\n",
    "        return False\n",
    "    elif '.' not in domain:\n",
    "        return False\n",
    "    else:\n",
    "        return True\n",
    "\n",
    "\n",
    "string='Vedanth444@yahoo.in'\n",
    "\n",
    "if valid_email(string): \n",
    "\n",
    "    print(f'{string} is a valid email address.')\n",
    "else:\n",
    "    print(f'{string} is not a valid email address.')\n"
   ]
  },
  {
   "cell_type": "markdown",
   "id": "8dca886e-0466-40df-960b-3cd6cceaa30f",
   "metadata": {},
   "source": [
    "### Q31. Extract the username from an email address string."
   ]
  },
  {
   "cell_type": "code",
   "execution_count": 157,
   "id": "56482b98-3b22-4942-86b6-50d5199a8860",
   "metadata": {},
   "outputs": [
    {
     "name": "stdout",
     "output_type": "stream",
     "text": [
      "Username of the email is: Vedanth444\n"
     ]
    }
   ],
   "source": [
    "email='Vedanth444@yahoo.in'\n",
    "username, domain= email.split('@')\n",
    "print('Username of the email is:', username)"
   ]
  },
  {
   "cell_type": "markdown",
   "id": "150e2bf6-45a9-45aa-8f69-eb2d12fbfcce",
   "metadata": {},
   "source": [
    "### Q32. Extract the domain name from an email address string."
   ]
  },
  {
   "cell_type": "code",
   "execution_count": 158,
   "id": "6202c14d-47ed-456d-a321-2bff4b97ff72",
   "metadata": {},
   "outputs": [
    {
     "name": "stdout",
     "output_type": "stream",
     "text": [
      "Domain of the email is: yahoo.in\n"
     ]
    }
   ],
   "source": [
    "string='Vedanth444@yahoo.in'\n",
    "username, domain= string.split('@')\n",
    "print('Domain of the email is:', domain)"
   ]
  },
  {
   "cell_type": "markdown",
   "id": "187cd721-5d6d-400c-b251-85aa9b9fcaa3",
   "metadata": {},
   "source": [
    "### Q33. Replace multiple spaces in a string with a single space."
   ]
  },
  {
   "cell_type": "code",
   "execution_count": 183,
   "id": "a032e5dd-c0d1-4156-b90d-7cd163e2ae45",
   "metadata": {},
   "outputs": [
    {
     "name": "stdout",
     "output_type": "stream",
     "text": [
      "*string after removing all the spaces*: Long way to go\n"
     ]
    }
   ],
   "source": [
    "g='                   Long   way           to   go              '\n",
    "h=' '.join(g.split())\n",
    "print('*string after removing all the spaces*:', h)"
   ]
  },
  {
   "cell_type": "markdown",
   "id": "cebf0477-91e1-43ba-9760-3a7b2a03ea8d",
   "metadata": {},
   "source": [
    "### Q34. Check if a string is a valid URL."
   ]
  },
  {
   "cell_type": "code",
   "execution_count": 195,
   "id": "3036f71e-1dad-4f79-acd9-87659354c108",
   "metadata": {},
   "outputs": [
    {
     "name": "stdout",
     "output_type": "stream",
     "text": [
      "The provided string is a valid URL\n"
     ]
    }
   ],
   "source": [
    "def valid_URL(link):\n",
    "   \n",
    "    if scheme not in link:\n",
    "        return False\n",
    "    elif sub_domain not in link:\n",
    "        return False\n",
    "    elif second_domain not in link:\n",
    "        return False\n",
    "    elif main_domain not in link:\n",
    "        return False\n",
    "    elif sub_directory not in link:\n",
    "        return False\n",
    "    else:\n",
    "        return True\n",
    "    \n",
    "\n",
    "URL='https://blog.linkedIn.com/programming'\n",
    "\n",
    "scheme='https://'\n",
    "sub_domain='blog'\n",
    "second_domain='linkedIn'\n",
    "main_domain='.com'\n",
    "sub_directory='/programming'\n",
    "\n",
    "if valid_URL(URL):\n",
    "    print('The provided string is a valid URL')\n",
    "else:\n",
    "    print('The provided string is not a valid URL')\n",
    "        \n"
   ]
  },
  {
   "cell_type": "markdown",
   "id": "90e9a1d9-af01-4159-a421-e653c6af8aaf",
   "metadata": {},
   "source": [
    "### Q35. Extract the protocol (http or https) from a URL string"
   ]
  },
  {
   "cell_type": "code",
   "execution_count": 202,
   "id": "b53c5812-47d9-47bd-abd9-56fe5a4f5de0",
   "metadata": {},
   "outputs": [
    {
     "name": "stdout",
     "output_type": "stream",
     "text": [
      "https\n"
     ]
    }
   ],
   "source": [
    "URL:'https://blog.linkedIn.com/programming'\n",
    "s=URL[0:5]\n",
    "print(s)"
   ]
  },
  {
   "cell_type": "markdown",
   "id": "6c6373ce-d5bf-4b28-8aba-6a2b047ffa46",
   "metadata": {},
   "source": [
    "### Q36. Find the frequency of each character in a string."
   ]
  },
  {
   "cell_type": "code",
   "execution_count": 206,
   "id": "68a513de-a5db-4c6f-ab52-3fb878732f39",
   "metadata": {},
   "outputs": [
    {
     "name": "stdout",
     "output_type": "stream",
     "text": [
      "'V' : 1\n",
      "'a' : 4\n",
      "'r' : 3\n",
      "'i' : 2\n",
      "'o' : 2\n",
      "'u' : 2\n",
      "'s' : 2\n",
      "' ' : 2\n",
      "'p' : 1\n",
      "'g' : 4\n",
      "'m' : 2\n",
      "'n' : 2\n",
      "'l' : 1\n",
      "'e' : 1\n"
     ]
    }
   ],
   "source": [
    "string='Various programming languages'\n",
    "\n",
    "string_frequency={}\n",
    "\n",
    "for char in string:\n",
    "    string_frequency[char]=string_frequency.get(char, 0) + 1\n",
    "\n",
    "for char, frequency in string_frequency.items():\n",
    "    print(f\"'{char}' : {frequency}\")"
   ]
  },
  {
   "cell_type": "markdown",
   "id": "fe0759b9-25a9-41ce-9018-cf50f5edec41",
   "metadata": {},
   "source": [
    "### Q37. Remove all punctuation from a string."
   ]
  },
  {
   "cell_type": "code",
   "execution_count": 227,
   "id": "f28274b3-b49b-4951-a2c7-e7048654e1a2",
   "metadata": {},
   "outputs": [
    {
     "name": "stdout",
     "output_type": "stream",
     "text": [
      "Python is a Coding language\n"
     ]
    }
   ],
   "source": [
    "k='Python, is a Coding language!'\n",
    "l=''.join([char if char.isalpha() or char.isspace() else '' for char in k])\n",
    "print(l)\n",
    "\n"
   ]
  },
  {
   "cell_type": "markdown",
   "id": "1e2fe42c-ce74-4e42-8c98-07d1f8add49f",
   "metadata": {},
   "source": [
    "### Q38. Check if a string contains only digits."
   ]
  },
  {
   "cell_type": "code",
   "execution_count": 231,
   "id": "6f8f6167-f9be-407b-989a-cfc931ddea45",
   "metadata": {},
   "outputs": [
    {
     "name": "stdout",
     "output_type": "stream",
     "text": [
      "string s do not contain only digits\n"
     ]
    }
   ],
   "source": [
    "s='1290233223323EDJLJLHGDI'\n",
    "if s.isnumeric():\n",
    "    print('string s contains only digits')\n",
    "else:\n",
    "    print('string s do not contain only digits')"
   ]
  },
  {
   "cell_type": "markdown",
   "id": "58d4cdc2-3c93-4cb4-9fb7-3bd06ef2bc0d",
   "metadata": {},
   "source": [
    "### Q39. Check if a string contains only alphabets"
   ]
  },
  {
   "cell_type": "code",
   "execution_count": 232,
   "id": "6773587f-3eba-4da3-b2b0-8be4a3a242bc",
   "metadata": {},
   "outputs": [
    {
     "name": "stdout",
     "output_type": "stream",
     "text": [
      "string j contains only alphabets\n"
     ]
    }
   ],
   "source": [
    "j='SAMRAT'\n",
    "if j.isalpha():\n",
    "    print('string j contains only alphabets')\n",
    "else:\n",
    "    print('string j do not contain only alphabets')"
   ]
  },
  {
   "cell_type": "markdown",
   "id": "0f3eb1ad-9efa-42bd-b284-8590e5a8d7bd",
   "metadata": {},
   "source": [
    "### Q40. Convert a string to a list of characters."
   ]
  },
  {
   "cell_type": "code",
   "execution_count": 233,
   "id": "66c1a3ed-c076-4cc2-84cc-0890f1af2c2a",
   "metadata": {},
   "outputs": [
    {
     "data": {
      "text/plain": [
       "['P', 'W', 's', 'k', 'i', 'l', 'l', 's']"
      ]
     },
     "execution_count": 233,
     "metadata": {},
     "output_type": "execute_result"
    }
   ],
   "source": [
    "string='PWskills'\n",
    "list(string)"
   ]
  },
  {
   "cell_type": "markdown",
   "id": "224b67af-9ffd-4946-b648-64e94314ddb0",
   "metadata": {
    "tags": []
   },
   "source": [
    "### Q41. Check if two strings are anagrams"
   ]
  },
  {
   "cell_type": "code",
   "execution_count": 6,
   "id": "d906f046-371c-41a1-93d7-f4f501349511",
   "metadata": {},
   "outputs": [
    {
     "name": "stdout",
     "output_type": "stream",
     "text": [
      "strings a & b are anagrams\n"
     ]
    }
   ],
   "source": [
    "def anagrams(a,b):\n",
    "    \n",
    "    if len(a)==len(b):\n",
    "        return True\n",
    "    else:\n",
    "        return False\n",
    "    \n",
    "    count_a={}\n",
    "    count_b={}\n",
    "    \n",
    "    for x in a:\n",
    "        count_a[x]=count_a.get(x,0) + 1\n",
    "    for x in b:\n",
    "        count_b[x]=count_b.get(x,0) + 1\n",
    "        \n",
    "    return count_a==count_b\n",
    "\n",
    "a='thing'\n",
    "b='night'\n",
    "\n",
    "if anagrams(a,b):\n",
    "    print('strings a & b are anagrams')\n",
    "else:\n",
    "    print('strings a & b are not anagrams')"
   ]
  },
  {
   "cell_type": "markdown",
   "id": "80463ab4-e8c8-4a79-811a-fc46e9fc9251",
   "metadata": {},
   "source": [
    "### Q42. Encode a string using a Caesar cipher."
   ]
  },
  {
   "cell_type": "code",
   "execution_count": 249,
   "id": "c99e871e-afe0-47ab-923b-6cc0e552fc29",
   "metadata": {},
   "outputs": [
    {
     "name": "stdout",
     "output_type": "stream",
     "text": [
      "Original text: code is not working\n",
      "Encrypted text: eqfg ku pqv yqtmkpi\n"
     ]
    }
   ],
   "source": [
    "def caesar_cipher(string, shift_value):\n",
    "    result = []\n",
    "    \n",
    "    for x in string:\n",
    "        if x.isalpha():\n",
    "            is_upper = x.isupper()  \n",
    "            original_value = ord(x) - ord('A' if is_upper else 'a')\n",
    "            shifted_value = (original_value + shift_value) % 26\n",
    "            encrypted_value = chr(shifted_value + ord('A' if is_upper else 'a'))\n",
    "            result.append(encrypted_value)\n",
    "        else:\n",
    "            result.append(x)\n",
    "        \n",
    "    return ''.join(result)\n",
    "\n",
    "string = \"code is not working\"\n",
    "shift_value = 2\n",
    "\n",
    "encrypted_text = caesar_cipher(string, shift_value)\n",
    "print(\"Original text:\", string)\n",
    "print(\"Encrypted text:\", encrypted_text)"
   ]
  },
  {
   "cell_type": "markdown",
   "id": "e1af0637-54e1-4d18-84f4-d805c9b8ff7d",
   "metadata": {},
   "source": [
    "### Q43. Decode a Caesar cipher encoded string."
   ]
  },
  {
   "cell_type": "code",
   "execution_count": 255,
   "id": "89db7b80-3fb7-4b58-9b4e-b5ec3dacce64",
   "metadata": {},
   "outputs": [
    {
     "name": "stdout",
     "output_type": "stream",
     "text": [
      "Original text: eqfg ku pqv yqtmkpi\n",
      "Encrypted text: code is not working\n"
     ]
    }
   ],
   "source": [
    "def caesar_cipher(string, shift_value):\n",
    "    result = []\n",
    "    \n",
    "    for x in string:\n",
    "        if x.isalpha():\n",
    "            is_upper = x.isupper()  \n",
    "            original_value = ord(x) - ord('A' if is_upper else 'a')\n",
    "            shifted_value = (original_value + shift_value) % 26\n",
    "            encrypted_value = chr(shifted_value + ord('A' if is_upper else 'a'))\n",
    "            result.append(encrypted_value)\n",
    "        else:\n",
    "            result.append(x)\n",
    "        \n",
    "    return ''.join(result)\n",
    "\n",
    "string = \"eqfg ku pqv yqtmkpi\"\n",
    "shift_value = -2\n",
    "\n",
    "encrypted_text = caesar_cipher(string, shift_value)\n",
    "print(\"Original text:\", string)\n",
    "print(\"Encrypted text:\", encrypted_text)"
   ]
  },
  {
   "cell_type": "markdown",
   "id": "bbca779b-aecc-4710-b42a-ad3c71e4fed6",
   "metadata": {},
   "source": [
    "### Q44. Find the most frequent word in a string."
   ]
  },
  {
   "cell_type": "code",
   "execution_count": 258,
   "id": "33b209f6-07ff-45de-ad2c-88bfcd35e62f",
   "metadata": {},
   "outputs": [
    {
     "data": {
      "text/plain": [
       "'eqfg ku pqv yqtmkpi'"
      ]
     },
     "execution_count": 258,
     "metadata": {},
     "output_type": "execute_result"
    }
   ],
   "source": [
    "string"
   ]
  },
  {
   "cell_type": "markdown",
   "id": "98befc4a-aaba-46be-ad5a-b950c7beb105",
   "metadata": {},
   "source": [
    "### Q45. Find all unique words in a string."
   ]
  },
  {
   "cell_type": "code",
   "execution_count": 268,
   "id": "fc3ab416-3006-4ee7-911d-074ca18bc63e",
   "metadata": {},
   "outputs": [
    {
     "name": "stdout",
     "output_type": "stream",
     "text": [
      "Unique words in the string are: {'and', 'in', 'make', 'the', 'product', 'must', 'sure', 'there', 'develop', 'be', 'same', 'provision', 'development', 'environment', 'to', 're-develop', 'a'}\n"
     ]
    }
   ],
   "source": [
    "def unique_words(string):\n",
    "    x = string.split()\n",
    "    \n",
    "    unique_words = set()\n",
    "    \n",
    "    for y in x:\n",
    "        z = y.strip(\".,!?\").lower()\n",
    "        unique_words.add(z)\n",
    "    \n",
    "    return unique_words\n",
    "\n",
    "\n",
    "string='Develop a product in Development environment! and make sure there must be a provision to re-develop the same'\n",
    "\n",
    "unique_words = unique_words(string)\n",
    "\n",
    "print(\"Unique words in the string are:\", unique_words)\n"
   ]
  },
  {
   "cell_type": "markdown",
   "id": "e1bbbd36-0581-4fdc-8dca-6bdab4f87f19",
   "metadata": {},
   "source": [
    "### Q46. Count the number of syllables in a string."
   ]
  },
  {
   "cell_type": "code",
   "execution_count": 291,
   "id": "8cdd7f39-84c0-45d0-b004-206073f5afbf",
   "metadata": {},
   "outputs": [
    {
     "name": "stdout",
     "output_type": "stream",
     "text": [
      "There are 2 syllables in the given string\n"
     ]
    }
   ],
   "source": [
    "def syllables_count(string):\n",
    "\n",
    "    s=string.lower()\n",
    "    \n",
    "    count=0\n",
    "    vowel_groups={'ae','ai','au','ea','ea','ee','ei','eu','ie','io','oa','oo','ou','ua','ue','ui','uo'}\n",
    "    k=0\n",
    "    while k<len(s):\n",
    "        if s[k:k+2] in vowel_groups:\n",
    "            count+=1\n",
    "            k+=2\n",
    "            \n",
    "        elif s[k] in 'aeiou':\n",
    "            count+=1\n",
    "            k+=1\n",
    "        \n",
    "        else:\n",
    "            k+=1\n",
    "            \n",
    "    if s.endswith('e'):\n",
    "        count-=1\n",
    "    if s.endswith('ae'):\n",
    "        count+=1\n",
    "        \n",
    "    count=max(count,1)\n",
    "        \n",
    "    return count\n",
    "    \n",
    "string='Algae'\n",
    "syllable= syllables_count(string)\n",
    "print(f\"There are {syllable} syllables in the given string\")\n",
    "            "
   ]
  },
  {
   "cell_type": "markdown",
   "id": "75ba346b-7d5a-4d76-b51b-031f3ec4fa86",
   "metadata": {},
   "source": [
    "### Q47. Check if a string contins any special characeters"
   ]
  },
  {
   "cell_type": "code",
   "execution_count": 16,
   "id": "ed192586-5887-4a09-9b56-fe05974a3125",
   "metadata": {},
   "outputs": [
    {
     "name": "stdout",
     "output_type": "stream",
     "text": [
      "String contains special characters\n"
     ]
    }
   ],
   "source": [
    "def Check_for_special_characters(string):\n",
    "\n",
    "    special_characters=(\"#@!$%^&*()_-+={}[]\\|;:''<,>.?/`~\")\n",
    "    \n",
    "    for char in string:\n",
    "        if char in special_characters:\n",
    "            return True\n",
    "    else:\n",
    "        return False\n",
    "        \n",
    "string='Limited version$%!'\n",
    "\n",
    "if Check_for_special_characters(string):\n",
    "    print('String contains special characters')\n",
    "else:\n",
    "    print('String does not contains special characters')\n",
    "    "
   ]
  },
  {
   "cell_type": "markdown",
   "id": "1653367e-e53d-4a7d-bf32-e886346a54e8",
   "metadata": {},
   "source": [
    "### Q48. Remove the nth word from string"
   ]
  },
  {
   "cell_type": "code",
   "execution_count": 45,
   "id": "5b385e8a-bf47-4acf-a0f4-6fc3d5d22f7a",
   "metadata": {},
   "outputs": [
    {
     "name": "stdout",
     "output_type": "stream",
     "text": [
      "The updated string after removing nth word from the string is: Trying to remove nth word this line\n"
     ]
    }
   ],
   "source": [
    "def remove(x, n):\n",
    "    y=x.split()\n",
    "    \n",
    "    if 0<=n<len(y):\n",
    "        del y[n]\n",
    "        z=' '.join(y)\n",
    "        \n",
    "        return (z)\n",
    "    else:\n",
    "        return (x)\n",
    "    \n",
    "string='Trying to remove nth word from this line'\n",
    "\n",
    "n=5\n",
    "\n",
    "updated_string = remove(string, n)\n",
    "print('The updated string after removing nth word from the string is:', updated_string)\n",
    "    \n",
    "    "
   ]
  },
  {
   "cell_type": "markdown",
   "id": "32551e42-0b53-4210-91d8-f155378659fb",
   "metadata": {},
   "source": [
    "### Q 49. Insert a word at the nth position in a string."
   ]
  },
  {
   "cell_type": "code",
   "execution_count": 47,
   "id": "a7de9d34-9dd9-47f3-90a0-fc9ce78c43b0",
   "metadata": {},
   "outputs": [
    {
     "name": "stdout",
     "output_type": "stream",
     "text": [
      "New line is: The Pizza is not healthy food \n"
     ]
    }
   ],
   "source": [
    "def insert(string, n, new_word):\n",
    "    \n",
    "    line=string.split()\n",
    "    Left_half=' '.join(line[:n])\n",
    "    Right_half=' '.join(line[n:])\n",
    "    \n",
    "    if 0<=n<=len(line): #used '=' to make sure the word can be added at the last index as well\n",
    "        new_line=Left_half+' '+new_word+' '+Right_half\n",
    "        \n",
    "        return new_line\n",
    "    else:\n",
    "        return string\n",
    "    \n",
    "string='The Pizza is not healthy'\n",
    "n=5\n",
    "new_word='food'\n",
    "\n",
    "result=insert(string, n, new_word)\n",
    "print ('New line is:', result)\n",
    "       \n",
    "        "
   ]
  },
  {
   "cell_type": "markdown",
   "id": "8ab192eb-c94c-41d1-b108-5fbd15102554",
   "metadata": {},
   "source": [
    "### Q50. Convert a CSV string to a list of lists."
   ]
  },
  {
   "cell_type": "code",
   "execution_count": 69,
   "id": "cab0fee3-9290-48b6-88ab-1b79394c4556",
   "metadata": {},
   "outputs": [
    {
     "name": "stdout",
     "output_type": "stream",
     "text": [
      "['I was trying to solve the assignments,']\n",
      "['which was similar to what has been thought in class,']\n",
      "['but to my surprise few assignments were irrelevent to the class completed.']\n"
     ]
    }
   ],
   "source": [
    "string='''I was trying to solve the assignments,\n",
    "which was similar to what has been thought in class,\n",
    "but to my surprise few assignments were irrelevent to the class completed.'''\n",
    "\n",
    "string_in_list=[]\n",
    "\n",
    "splitting=string.split('\\n')\n",
    "\n",
    "for x in splitting:\n",
    "    if x:\n",
    "        \n",
    "        string_in_list.append(x.split('\\,'))\n",
    "        \n",
    "for x in string_in_list:\n",
    "    print(x)"
   ]
  },
  {
   "cell_type": "markdown",
   "id": "5261f924-c442-4e2a-a70e-d6f6cacdb1b7",
   "metadata": {},
   "source": [
    "## Topic: List based practice problems:"
   ]
  },
  {
   "cell_type": "markdown",
   "id": "934a7fc2-8b32-458f-8702-80f5a17eddd0",
   "metadata": {},
   "source": [
    "### 1. Create a list with integers from 1 to 10."
   ]
  },
  {
   "cell_type": "code",
   "execution_count": 88,
   "id": "9b427ad3-7ff7-4e89-a789-275ce7c240ae",
   "metadata": {},
   "outputs": [
    {
     "name": "stdout",
     "output_type": "stream",
     "text": [
      "[1, 2, 3, 4, 5, 6, 7, 8, 9, 10]\n"
     ]
    }
   ],
   "source": [
    "list=[x for x in range(1,11)]\n",
    "print(list)"
   ]
  },
  {
   "cell_type": "markdown",
   "id": "11f62244-b073-4aaa-a80b-30c7a28e09d5",
   "metadata": {},
   "source": [
    "### 2. Find the length of a list without using the `len()` function."
   ]
  },
  {
   "cell_type": "code",
   "execution_count": 90,
   "id": "ba1d9c0d-13f1-4133-bb6c-95e419290f4d",
   "metadata": {},
   "outputs": [
    {
     "name": "stdout",
     "output_type": "stream",
     "text": [
      "Number of characters in list are: 8\n"
     ]
    }
   ],
   "source": [
    "list=[1,2,3,4,5,6,7,8,]\n",
    "\n",
    "count=0\n",
    "for i in list:\n",
    "    count+=1\n",
    "print('Number of characters in list are:', count) "
   ]
  },
  {
   "cell_type": "markdown",
   "id": "55ed3c1e-196a-4838-bd61-52df78482a41",
   "metadata": {},
   "source": [
    "### 3. Append an element to the end of a list."
   ]
  },
  {
   "cell_type": "code",
   "execution_count": 95,
   "id": "fd5dea82-fa07-4478-8238-88f6eaf6b156",
   "metadata": {},
   "outputs": [
    {
     "name": "stdout",
     "output_type": "stream",
     "text": [
      "['Bangalore', 'Mysore', 'Mangalore', 'Dharawada']\n"
     ]
    }
   ],
   "source": [
    "list=['Bangalore', 'Mysore', 'Mangalore',]\n",
    "list.append('Dharawada')\n",
    "print(list)"
   ]
  },
  {
   "cell_type": "markdown",
   "id": "d92e754e-40b7-4682-9522-26ef7614bd88",
   "metadata": {},
   "source": [
    "### 4. Insert an element at a specific index in a list."
   ]
  },
  {
   "cell_type": "code",
   "execution_count": 102,
   "id": "081d6e4f-d123-4e21-b766-d2f245d216d8",
   "metadata": {},
   "outputs": [
    {
     "name": "stdout",
     "output_type": "stream",
     "text": [
      "['Bangalore', 'Dharawada', 'Mysore', 'Mangalore']\n"
     ]
    }
   ],
   "source": [
    "list=['Bangalore', 'Mysore', 'Mangalore',]\n",
    "list.insert(1,'Dharawada')\n",
    "print(list)"
   ]
  },
  {
   "cell_type": "markdown",
   "id": "14e495c6-4721-43f7-b46a-37e15565e082",
   "metadata": {},
   "source": [
    "### 5.  Remove an element from a list by its value."
   ]
  },
  {
   "cell_type": "code",
   "execution_count": 104,
   "id": "9426a9f9-0f10-42bf-88a5-ddec80c3f6cd",
   "metadata": {},
   "outputs": [
    {
     "name": "stdout",
     "output_type": "stream",
     "text": [
      "['Bangalore', 'Mysore', 'Mangalore']\n"
     ]
    }
   ],
   "source": [
    "list=['Bangalore', 'Mysore', 'Mangalore', 'Dharawada']\n",
    "list.remove('Dharawada')\n",
    "print(list)"
   ]
  },
  {
   "cell_type": "markdown",
   "id": "195f54c7-7414-416c-bde8-cde7d2fdba2f",
   "metadata": {},
   "source": [
    "### 6. Remove an element from a list by its index."
   ]
  },
  {
   "cell_type": "code",
   "execution_count": 105,
   "id": "a8071421-030d-4f0c-9759-255d9b8bb201",
   "metadata": {},
   "outputs": [
    {
     "name": "stdout",
     "output_type": "stream",
     "text": [
      "['Bangalore', 'Mysore', 'Dharawada']\n"
     ]
    }
   ],
   "source": [
    "list=['Bangalore', 'Mysore', 'Mangalore', 'Dharawada']\n",
    "del(list[2])\n",
    "print(list)"
   ]
  },
  {
   "cell_type": "markdown",
   "id": "5f0cfd56-d463-4917-99db-f0529d61b40f",
   "metadata": {},
   "source": [
    "### 7. Check if an element exists in a list."
   ]
  },
  {
   "cell_type": "code",
   "execution_count": 130,
   "id": "2ef07ab6-64ec-48ee-a17a-4c13eeb6db14",
   "metadata": {},
   "outputs": [
    {
     "name": "stdout",
     "output_type": "stream",
     "text": [
      "The list a contains Dharawada in it\n"
     ]
    }
   ],
   "source": [
    "a=['Bangalore', 'Mysore', 'Mangalore', 'Dharawada']\n",
    "\n",
    "for i in a:\n",
    "    if i=='Dharawada':\n",
    "        print(f'The list a contains {i} in it') \n"
   ]
  },
  {
   "cell_type": "markdown",
   "id": "23fa85f8-8547-4bf6-b0cc-6169bb9fea8f",
   "metadata": {},
   "source": [
    "### 8. Find the index of the first occurrence of an element in a list."
   ]
  },
  {
   "cell_type": "code",
   "execution_count": 12,
   "id": "e6231b0e-fde9-4dec-b8a2-288011e00565",
   "metadata": {},
   "outputs": [
    {
     "name": "stdout",
     "output_type": "stream",
     "text": [
      "First occurance of element Mysore happens at 2\n"
     ]
    }
   ],
   "source": [
    "h=['Bangalore', 'Mangalore', 'Mysore', 'Dharawada', 'Mysore',]\n",
    "k='Mysore'\n",
    "\n",
    "try:\n",
    "    l=h.index(k)\n",
    "    print(f'First occurance of element Mysore happens at {l}')\n",
    "except valueerror:\n",
    "    print(f'{k}is not in the list')"
   ]
  },
  {
   "cell_type": "markdown",
   "id": "e4f8f420-c49f-4a66-9476-eb2367d75a23",
   "metadata": {},
   "source": [
    "### 9. Count the occurrences of an element in a list."
   ]
  },
  {
   "cell_type": "code",
   "execution_count": 23,
   "id": "251f20c2-5db2-4093-9844-3f21e0f50ce1",
   "metadata": {},
   "outputs": [
    {
     "name": "stdout",
     "output_type": "stream",
     "text": [
      "The element Mysore appears 2 times in list h\n"
     ]
    }
   ],
   "source": [
    "h=['Bangalore', 'Mangalore', 'Mysore', 'Dharawada', 'Mysore',]\n",
    "\n",
    "element='Mysore'\n",
    "count=0\n",
    "for i in h:\n",
    "    if i==element:\n",
    "        count+=1\n",
    "print(f'The element {element} appears {count} times in list h')\n",
    "        "
   ]
  },
  {
   "cell_type": "markdown",
   "id": "01cd3557-eefb-47b1-a66a-6a8589d9aebd",
   "metadata": {},
   "source": [
    "### 10. Reverse the order of elements in a list."
   ]
  },
  {
   "cell_type": "code",
   "execution_count": 9,
   "id": "ecdfad69-507a-4acf-addd-9851751af8e9",
   "metadata": {},
   "outputs": [
    {
     "name": "stdout",
     "output_type": "stream",
     "text": [
      "['Mysore', 'Dharawada', 'Mysore', 'Mangalore', 'Bangalore']\n"
     ]
    }
   ],
   "source": [
    "h=['Bangalore', 'Mangalore', 'Mysore', 'Dharawada', 'Mysore',]\n",
    "i=h[-1:-6:-1]\n",
    "print(i)"
   ]
  },
  {
   "cell_type": "markdown",
   "id": "ad03c8f5-b360-4992-8018-b50731b83675",
   "metadata": {},
   "source": [
    "### 11. Sort a list in ascending order."
   ]
  },
  {
   "cell_type": "code",
   "execution_count": 11,
   "id": "848cada3-4ed5-4b5c-9a46-c28a8c74f0ea",
   "metadata": {},
   "outputs": [
    {
     "name": "stdout",
     "output_type": "stream",
     "text": [
      "[2, 2, 5, 5, 5, 13, 23, 242, 453, 4242, 232425]\n"
     ]
    }
   ],
   "source": [
    "list=[2,5,23,5,232425,242,453,2,13,4242,5]\n",
    "list.sort()\n",
    "print(list)"
   ]
  },
  {
   "cell_type": "markdown",
   "id": "cc70c105-e091-4a6b-af2e-07675452315d",
   "metadata": {},
   "source": [
    "### 12. Sort a list in descending order."
   ]
  },
  {
   "cell_type": "code",
   "execution_count": 16,
   "id": "7c6b4c77-ee9f-4ff0-8be3-877fb7de08cc",
   "metadata": {},
   "outputs": [
    {
     "name": "stdout",
     "output_type": "stream",
     "text": [
      "[232425, 4242, 453, 242, 23, 13, 5, 5, 5, 2, 2]\n"
     ]
    }
   ],
   "source": [
    "list=[2,5,23,5,232425,242,453,2,13,4242,5]\n",
    "list.sort(reverse=True)\n",
    "print(list)"
   ]
  },
  {
   "cell_type": "markdown",
   "id": "bcf94c33-6620-4e68-a53d-c8f7e59cb093",
   "metadata": {},
   "source": [
    "### 13. Create a list of even numbers from 1 to 20."
   ]
  },
  {
   "cell_type": "code",
   "execution_count": 34,
   "id": "4ec311ba-1ca3-487a-8bb0-ffaa48508179",
   "metadata": {},
   "outputs": [
    {
     "name": "stdout",
     "output_type": "stream",
     "text": [
      "2 4 6 8 10 12 14 16 18 "
     ]
    }
   ],
   "source": [
    "limit1=1\n",
    "limit2=20\n",
    "for i in range (limit1,limit2):\n",
    "    if i%2==0:\n",
    "        print(i, end=' ')"
   ]
  },
  {
   "cell_type": "markdown",
   "id": "9a65451d-2b3f-4ae6-98b3-4771968f3bcc",
   "metadata": {},
   "source": [
    "### 14. Create a list of odd numbers from 1 to 20."
   ]
  },
  {
   "cell_type": "code",
   "execution_count": 35,
   "id": "1816efbf-223e-4786-b04c-9fb46e963afb",
   "metadata": {},
   "outputs": [
    {
     "name": "stdout",
     "output_type": "stream",
     "text": [
      "1 3 5 7 9 11 13 15 17 19 "
     ]
    }
   ],
   "source": [
    "limit1=1\n",
    "limit2=20\n",
    "for i in range (limit1,limit2):\n",
    "    if i%2!=0:\n",
    "        print(i, end=' ')"
   ]
  },
  {
   "cell_type": "markdown",
   "id": "597ef1ed-2991-44af-a96e-31ec52c2d8c6",
   "metadata": {},
   "source": [
    "### 15. Find the sum of all elements in a list."
   ]
  },
  {
   "cell_type": "code",
   "execution_count": 39,
   "id": "b54ed16b-1dac-4de0-8861-6dfd24a27bb3",
   "metadata": {},
   "outputs": [
    {
     "name": "stdout",
     "output_type": "stream",
     "text": [
      "237417\n"
     ]
    }
   ],
   "source": [
    "list=[2,5,23,5,232425,242,453,2,13,4242,5]\n",
    "sum=sum(list)\n",
    "print(sum)"
   ]
  },
  {
   "cell_type": "markdown",
   "id": "d0ca22ed-4c13-4a83-92d5-0728a6038429",
   "metadata": {},
   "source": [
    "### 16. Find the maximum value in a list."
   ]
  },
  {
   "cell_type": "code",
   "execution_count": 6,
   "id": "d4b543b4-66ac-4729-bc0e-e9133220f402",
   "metadata": {},
   "outputs": [
    {
     "name": "stdout",
     "output_type": "stream",
     "text": [
      "232425\n"
     ]
    }
   ],
   "source": [
    "list=[2,5,23,5,232425,242,453,2,13,4242,5]\n",
    "maximum_value=max(list)\n",
    "print(maximum_value)"
   ]
  },
  {
   "cell_type": "markdown",
   "id": "92987528-f025-4c85-9af9-e3b032e75a52",
   "metadata": {},
   "source": [
    "### 17. Find the minimum value in a list."
   ]
  },
  {
   "cell_type": "code",
   "execution_count": 7,
   "id": "9861d586-d8e0-437d-90c5-a7df1059edde",
   "metadata": {},
   "outputs": [
    {
     "name": "stdout",
     "output_type": "stream",
     "text": [
      "2\n"
     ]
    }
   ],
   "source": [
    "list=[2,5,23,5,232425,242,453,2,13,4242,5]\n",
    "minimum_value=min(list)\n",
    "print(minimum_value)"
   ]
  },
  {
   "cell_type": "markdown",
   "id": "241554b0-62ed-48e8-a1fe-718a55e43c64",
   "metadata": {},
   "source": [
    "### 18. Create a list of squares of numbers from 1 to 10."
   ]
  },
  {
   "cell_type": "code",
   "execution_count": 23,
   "id": "a313fab9-4edf-4784-b84f-5c3a67cb4b8e",
   "metadata": {},
   "outputs": [
    {
     "name": "stdout",
     "output_type": "stream",
     "text": [
      "The square of 1 is 1\n",
      "The square of 2 is 4\n",
      "The square of 3 is 9\n",
      "The square of 4 is 16\n",
      "The square of 5 is 25\n",
      "The square of 6 is 36\n",
      "The square of 7 is 49\n",
      "The square of 8 is 64\n",
      "The square of 9 is 81\n",
      "The square of 10 is 100\n"
     ]
    }
   ],
   "source": [
    "for i in range(1, 11):\n",
    "    square_values= i*i\n",
    "    print(f'The square of {i} is {square_values}')\n",
    "        "
   ]
  },
  {
   "cell_type": "markdown",
   "id": "4e0865eb-b9bb-435f-b30c-96c822e5ae3a",
   "metadata": {},
   "source": [
    "### 19. Create a list of random numbers."
   ]
  },
  {
   "cell_type": "code",
   "execution_count": 1,
   "id": "90152c8c-a771-4991-b381-27e49464f39c",
   "metadata": {},
   "outputs": [
    {
     "name": "stdout",
     "output_type": "stream",
     "text": [
      "[2, 3, 6, 5, 7, 46, 4, 6, 34, 6]\n"
     ]
    }
   ],
   "source": [
    "random=[2,3,6,5,7,46,4,6,34,6]\n",
    "print(random)"
   ]
  },
  {
   "cell_type": "markdown",
   "id": "2c7b5a6d-cf6c-40cc-a259-8c07303f15f0",
   "metadata": {},
   "source": [
    "### 20. Remove duplicates from a list."
   ]
  },
  {
   "cell_type": "code",
   "execution_count": 6,
   "id": "82c7b21e-048e-439d-9637-0d867b3b3cc2",
   "metadata": {},
   "outputs": [
    {
     "name": "stdout",
     "output_type": "stream",
     "text": [
      "list after removal of duplicates: [2, 3, 4, 5, 6, 7, 34, 46]\n"
     ]
    }
   ],
   "source": [
    "random=[2,3,6,5,7,46,4,6,34,6]\n",
    "h=set(random)\n",
    "clean_random=list(h)\n",
    "print('list after removal of duplicates:', clean_random)\n"
   ]
  },
  {
   "cell_type": "markdown",
   "id": "8b93cb56-57f3-49cd-a94b-24774951d3a1",
   "metadata": {},
   "source": [
    "### 21. Find the common elements between two lists."
   ]
  },
  {
   "cell_type": "code",
   "execution_count": 11,
   "id": "4f1459b0-7b6b-4707-be69-c2182fd7666e",
   "metadata": {},
   "outputs": [
    {
     "name": "stdout",
     "output_type": "stream",
     "text": [
      "common elements are: [34, 2, 3, 4, 5]\n"
     ]
    }
   ],
   "source": [
    "k=[2,3,6,5,7,46,4,6,34,6]\n",
    "l=[3,2,4,5,54,64,34,1]\n",
    "\n",
    "set_k=set(k)\n",
    "set_l=set(l)\n",
    "set_m = set_k & set_l\n",
    "\n",
    "m = list(set_m)\n",
    "print('common elements are:', m)"
   ]
  },
  {
   "cell_type": "markdown",
   "id": "04316ccf-a4e6-4e76-ac77-6dd9c00e6dd2",
   "metadata": {},
   "source": [
    "### 22. Find the difference between two lists."
   ]
  },
  {
   "cell_type": "code",
   "execution_count": 1,
   "id": "82a01801-03fd-42c6-92c6-4711b24bd119",
   "metadata": {},
   "outputs": [
    {
     "name": "stdout",
     "output_type": "stream",
     "text": [
      "differnece between two sets are: [6, 7, 46, 6, 6] [54, 64, 1]\n"
     ]
    }
   ],
   "source": [
    "k=[2,3,6,5,7,46,4,6,34,6]\n",
    "l=[3,2,4,5,54,64,34,1]\n",
    "\n",
    "m = [i for i in k if i not in l]\n",
    "n = [i for i in l if i not in k]\n",
    "print('differnece between two sets are:', m, n)"
   ]
  },
  {
   "cell_type": "markdown",
   "id": "5719eba0-efe2-4698-a207-9342becbbf41",
   "metadata": {},
   "source": [
    "### 23. Merge two lists."
   ]
  },
  {
   "cell_type": "code",
   "execution_count": 2,
   "id": "62363a62-a7ee-4b15-92e8-103d7410e8bc",
   "metadata": {},
   "outputs": [
    {
     "name": "stdout",
     "output_type": "stream",
     "text": [
      "merged list is: [2, 3, 6, 5, 7, 46, 4, 6, 34, 6, 3, 2, 4, 5, 54, 64, 34, 1]\n"
     ]
    }
   ],
   "source": [
    "k=[2,3,6,5,7,46,4,6,34,6]\n",
    "l=[3,2,4,5,54,64,34,1]\n",
    "\n",
    "m = k+l\n",
    "print('merged list is:', m)"
   ]
  },
  {
   "cell_type": "markdown",
   "id": "90225454-9231-4d9f-88c9-e891df06934e",
   "metadata": {},
   "source": [
    "### 24. Multiply all elements in a list by 2."
   ]
  },
  {
   "cell_type": "code",
   "execution_count": 7,
   "id": "5b26086b-434f-4173-85b8-a7a15e076a20",
   "metadata": {},
   "outputs": [
    {
     "name": "stdout",
     "output_type": "stream",
     "text": [
      "multiplied values of list k are: [4, 6, 12, 10, 14, 92, 8, 12, 68, 12]\n",
      "multiplied values of list l are: [6, 4, 8, 10, 108, 128, 68, 2]\n"
     ]
    }
   ],
   "source": [
    "k=[2,3,6,5,7,46,4,6,34,6]\n",
    "l=[3,2,4,5,54,64,34,1]\n",
    "\n",
    "m = [i*2 for i in k]\n",
    "n = [i*2 for i in l]\n",
    "print('multiplied values of list k are:', m)\n",
    "print('multiplied values of list l are:', n)"
   ]
  },
  {
   "cell_type": "markdown",
   "id": "a0cf69aa-3ccd-4ed1-b08e-6e61ff31fca1",
   "metadata": {},
   "source": [
    "### 25. Filter out all even numbers from a list."
   ]
  },
  {
   "cell_type": "code",
   "execution_count": 34,
   "id": "bc009f4d-1172-40e3-bda5-5fe91fa1cc82",
   "metadata": {},
   "outputs": [
    {
     "name": "stdout",
     "output_type": "stream",
     "text": [
      "2 6 46 4 6 34 6 "
     ]
    }
   ],
   "source": [
    "k=[2,3,6,5,7,46,4,6,34,6,3,1,5,7,9,31,21,63,55,79]\n",
    "\n",
    "for i in k:\n",
    "    if i%2==0:\n",
    "            print(i, end=' ')"
   ]
  },
  {
   "cell_type": "markdown",
   "id": "1b09caea-c35f-4241-ae9f-04329e0665e7",
   "metadata": {},
   "source": [
    "### 26. Convert a list of strings to a list of integers."
   ]
  },
  {
   "cell_type": "code",
   "execution_count": 42,
   "id": "06dc038d-8785-4f4a-b0e3-483e4cb36773",
   "metadata": {},
   "outputs": [
    {
     "name": "stdout",
     "output_type": "stream",
     "text": [
      "list of integers converted from string are: [3232323, 223242, 112, 32, 2434, 121, 42]\n"
     ]
    }
   ],
   "source": [
    "l=['3232323','223242','112','32','2434','121','42']\n",
    "m=[int(i) for i in l]\n",
    "print('list of integers converted from string are:', m)"
   ]
  },
  {
   "cell_type": "markdown",
   "id": "aef2ca2b-ca7c-4022-b9b6-7d4ee798cba2",
   "metadata": {},
   "source": [
    "### 27. Convert a list of integers to a list of strings."
   ]
  },
  {
   "cell_type": "code",
   "execution_count": 43,
   "id": "1906cf62-ff3b-4137-acd5-0908d4e2cf42",
   "metadata": {},
   "outputs": [
    {
     "name": "stdout",
     "output_type": "stream",
     "text": [
      "list of integers converted from string are: ['3232323', '223242', '112', '32', '2434', '121', '42']\n"
     ]
    }
   ],
   "source": [
    "l=[3232323,223242,112,32,2434,121,42]\n",
    "m=[str(i) for i in l]\n",
    "print('list of integers converted from string are:', m)"
   ]
  },
  {
   "cell_type": "markdown",
   "id": "cae643b2-5b4f-4da9-8b2d-31192b38e6ed",
   "metadata": {},
   "source": [
    "### 28. Flatten a nested list."
   ]
  },
  {
   "cell_type": "code",
   "execution_count": 67,
   "id": "693b3af1-272a-47e8-b314-73d146f492af",
   "metadata": {},
   "outputs": [
    {
     "name": "stdout",
     "output_type": "stream",
     "text": [
      "Flatten list is: ['Ramesh', 'suresh', 'jitesh', 'mukesh', 'panbeeda', 'cancer', 'ganguly']\n"
     ]
    }
   ],
   "source": [
    "def Flatten_list(x):\n",
    "    \n",
    "    flat_list=[]\n",
    "    \n",
    "    for i in x:\n",
    "        if isinstance(i, list):\n",
    "            flat_list.extend(Flatten_list(i))\n",
    "        else:\n",
    "            flat_list.append(i)\n",
    "    return(flat_list)\n",
    "\n",
    "x=['Ramesh', 'suresh', 'jitesh',  ['mukesh', 'panbeeda', 'cancer'], 'ganguly',]\n",
    "\n",
    "y=Flatten_list(x)\n",
    "print('Flatten list is:', y)"
   ]
  },
  {
   "cell_type": "markdown",
   "id": "6f175b80-7e15-4443-b5ab-8353ecc3f120",
   "metadata": {},
   "source": [
    "### 29. Create a list of the first 10 Fibonacci numbers."
   ]
  },
  {
   "cell_type": "code",
   "execution_count": 76,
   "id": "f499ef0c-3b0e-4d2e-af80-73cef861845e",
   "metadata": {},
   "outputs": [
    {
     "name": "stdout",
     "output_type": "stream",
     "text": [
      "The first 10 fibonacci numbers are: [0, 1, 1, 2, 3, 5, 8, 13, 21, 34]\n"
     ]
    }
   ],
   "source": [
    "count=10\n",
    "Fibonacci_numbers=[0,1]\n",
    "   \n",
    "while len(Fibonacci_numbers) < count:\n",
    "    \n",
    "    next_number = Fibonacci_numbers[-1] + Fibonacci_numbers[-2]\n",
    "    Fibonacci_numbers.append(next_number)\n",
    "    \n",
    "print ('The first 10 fibonacci numbers are:', Fibonacci_numbers)"
   ]
  },
  {
   "cell_type": "markdown",
   "id": "cc8be307-2dc4-4fb4-a048-d3abc43ebffa",
   "metadata": {},
   "source": [
    "### 30. Check if a list is sorted."
   ]
  },
  {
   "cell_type": "code",
   "execution_count": 87,
   "id": "6eef47db-296e-4da9-ac26-9f71b93eb820",
   "metadata": {},
   "outputs": [
    {
     "name": "stdin",
     "output_type": "stream",
     "text": [
      "enter the list: [2,3,6,5,7,46,4,6,34,6]\n"
     ]
    },
    {
     "name": "stdout",
     "output_type": "stream",
     "text": [
      "The list is not sorted\n"
     ]
    }
   ],
   "source": [
    "s=input('enter the list:')\n",
    "\n",
    "if s==sorted(s):\n",
    "    print('The list is not sorted')\n",
    "else:\n",
    "    print('The list is not sorted')\n"
   ]
  },
  {
   "cell_type": "markdown",
   "id": "d5fe4691-2c63-4d0a-80a4-91e96934e186",
   "metadata": {},
   "source": [
    "### 31. Rotate a list to the left by `n` positions."
   ]
  },
  {
   "cell_type": "code",
   "execution_count": 120,
   "id": "3e90041c-b8d6-478d-99ea-bd78b3ff2916",
   "metadata": {},
   "outputs": [
    {
     "name": "stdout",
     "output_type": "stream",
     "text": [
      "Rotated list left by 4 elements is: [7, 46, 4, 6, 34, 6, 2, 3, 6, 5]\n"
     ]
    }
   ],
   "source": [
    "def rotated_list(l,n):\n",
    "    count=n\n",
    " \n",
    "    k=l[n:]+l[:n]      \n",
    "    return(k)\n",
    "    \n",
    "            \n",
    "l=[2,3,6,5,7,46,4,6,34,6]\n",
    "n=4\n",
    "\n",
    "new_list=rotated_list(l,n)\n",
    "print(f'Rotated list left by {n} elements is:', new_list)\n"
   ]
  },
  {
   "cell_type": "markdown",
   "id": "63a967df-8687-47c8-af0f-406f42a08a45",
   "metadata": {},
   "source": [
    "### 32. Rotate a list to the right by `n` positions."
   ]
  },
  {
   "cell_type": "code",
   "execution_count": 141,
   "id": "5785d9f3-cdb4-46a5-aec0-db0b802ebb4e",
   "metadata": {},
   "outputs": [
    {
     "name": "stdout",
     "output_type": "stream",
     "text": [
      "Rotated list left by 4 elements is: [4, 6, 34, 6, 2, 3, 6, 5, 7, 46]\n"
     ]
    }
   ],
   "source": [
    "def rotated_list(l,n):\n",
    "    count=n\n",
    " \n",
    "    k=l[-n:]+l[:-n]      \n",
    "    return(k)\n",
    "    \n",
    "            \n",
    "l=[2,3,6,5,7,46,4,6,34,6]\n",
    "n=4\n",
    "\n",
    "new_list=rotated_list(l,n)\n",
    "print(f'Rotated list left by {n} elements is:', new_list)"
   ]
  },
  {
   "cell_type": "markdown",
   "id": "fbbed0c7-dd87-4323-8209-62a250b6e830",
   "metadata": {},
   "source": [
    "### 33. Create a list of prime numbers up to 50."
   ]
  },
  {
   "cell_type": "code",
   "execution_count": 11,
   "id": "948f137b-8562-4ab2-8c73-9c132e8b0920",
   "metadata": {},
   "outputs": [
    {
     "name": "stdout",
     "output_type": "stream",
     "text": [
      "2 3 5 7 11 13 17 19 23 29 31 37 41 43 47 "
     ]
    }
   ],
   "source": [
    "for num in range (2,51):\n",
    "    prime=True\n",
    "    for i in range (2, num):\n",
    "        if (num%i)==0:\n",
    "            prime=False\n",
    "            break\n",
    "            \n",
    "    if prime:\n",
    "        print(num, end=' ')        "
   ]
  },
  {
   "cell_type": "markdown",
   "id": "8b3fcc61-49c8-48e4-8578-f803338ec721",
   "metadata": {},
   "source": [
    "### 34. Split a list into chunks of size `n`."
   ]
  },
  {
   "cell_type": "code",
   "execution_count": 18,
   "id": "a3b4d24e-4403-4b6e-b508-8dff3f5ca7bd",
   "metadata": {},
   "outputs": [
    {
     "name": "stdout",
     "output_type": "stream",
     "text": [
      "List split into chunks of 4 elements: [[2, 3, 6, 5], [7, 46, 4, 6], [34, 6, 3, 2], [4, 5, 54, 64], [34, 1]]\n"
     ]
    }
   ],
   "source": [
    "def chunks(k, n):\n",
    "    chunked_list = []\n",
    "    for i in range(0, len(k), n):\n",
    "        chunked_list.append(k[i:i+n])\n",
    "    return chunked_list\n",
    "\n",
    "k = [2, 3, 6, 5, 7, 46, 4, 6, 34, 6, 3, 2, 4, 5, 54, 64, 34, 1]\n",
    "n = 4\n",
    "\n",
    "new_list = chunks(k, n)\n",
    "print(f'List split into chunks of {n} elements:', new_list)"
   ]
  },
  {
   "cell_type": "markdown",
   "id": "19475bd1-0ce0-41e3-a3d3-d012f66791f4",
   "metadata": {},
   "source": [
    "### 35. Find the second largest number in a list."
   ]
  },
  {
   "cell_type": "code",
   "execution_count": 30,
   "id": "6453f637-2911-4c82-9513-e7796731cbb0",
   "metadata": {},
   "outputs": [
    {
     "name": "stdout",
     "output_type": "stream",
     "text": [
      "Sorted in descending order: [64, 54, 46, 34, 34, 7, 6, 6, 6, 5, 5, 4, 4, 3, 3, 2, 2, 1]\n",
      "Second largest number in the list is: 54\n"
     ]
    }
   ],
   "source": [
    "k = [2, 3, 6, 5, 7, 46, 4, 6, 34, 6, 3, 2, 4, 5, 54, 64, 34, 1]\n",
    "\n",
    "k.sort(reverse=True)\n",
    "    \n",
    "print('Sorted in descending order:', k)\n",
    "print('Second largest number in the list is:', (k[1]))\n"
   ]
  },
  {
   "cell_type": "markdown",
   "id": "d65024d8-e911-45b4-a3c8-5cc8eeaa4f26",
   "metadata": {},
   "source": [
    "### 36. Replace every element in a list with its square."
   ]
  },
  {
   "cell_type": "code",
   "execution_count": 52,
   "id": "887019f7-ac97-4678-a9fa-9f78975fd5a9",
   "metadata": {},
   "outputs": [
    {
     "name": "stdout",
     "output_type": "stream",
     "text": [
      "squared elements of list is: [4, 9, 16, 25, 36, 49, 1156]\n"
     ]
    }
   ],
   "source": [
    "a=[2,3,4,5,6,7,34]\n",
    "\n",
    "for i in range (len(a)):\n",
    "    a[i]=a[i]*a[i]\n",
    "print('squared elements of list is:', a)"
   ]
  },
  {
   "cell_type": "markdown",
   "id": "d6567319-752e-4474-b9de-1627c7319905",
   "metadata": {},
   "source": [
    "### 37. Convert a list to a dictionary where list elements become keys and their indices become values."
   ]
  },
  {
   "cell_type": "code",
   "execution_count": 57,
   "id": "095cb484-0a4f-47c6-a8c0-9cd103b04eaa",
   "metadata": {},
   "outputs": [
    {
     "name": "stdout",
     "output_type": "stream",
     "text": [
      "{'Ramesh': 0, 'suresh': 1, 'jitesh': 2, 'mukesh': 3, 'panbeeda': 4, 'cancer': 5, 'ganguly': 6}\n"
     ]
    }
   ],
   "source": [
    "a=['Ramesh', 'suresh', 'jitesh', 'mukesh', 'panbeeda', 'cancer', 'ganguly']\n",
    "\n",
    "l= {element: index for index, element in enumerate(a)}\n",
    "print(l)"
   ]
  },
  {
   "cell_type": "markdown",
   "id": "ecb29941-0fef-474a-9acc-95294b254f85",
   "metadata": {},
   "source": [
    "### 38. Shuffle the elements of a list randomly"
   ]
  },
  {
   "cell_type": "code",
   "execution_count": 77,
   "id": "4587ff11-8ef2-4b89-9193-fb9a73781911",
   "metadata": {},
   "outputs": [
    {
     "name": "stdout",
     "output_type": "stream",
     "text": [
      "Randomly shifted elements of list are: ['ganguly', 'cancer', 'jitesh', 'Ramesh', 'suresh', 'panbeeda', 'mukesh']\n"
     ]
    }
   ],
   "source": [
    "a=['Ramesh', 'suresh', 'jitesh', 'mukesh', 'panbeeda', 'cancer', 'ganguly']\n",
    "b=a[0:2:1]\n",
    "c=a[2:3:1]\n",
    "d=a[-3:-5:-1]\n",
    "e=a[-1:-3:-1]+c+b+d\n",
    "print('Randomly shifted elements of list are:', e)"
   ]
  },
  {
   "cell_type": "markdown",
   "id": "f935dbc7-23bd-49a8-a586-b8d2e04920a7",
   "metadata": {},
   "source": [
    "### 39. Create a list of the first 10 factorial numbers."
   ]
  },
  {
   "cell_type": "code",
   "execution_count": 89,
   "id": "73f6ab64-efd2-4d88-919f-adb53486d5c3",
   "metadata": {},
   "outputs": [
    {
     "name": "stdout",
     "output_type": "stream",
     "text": [
      "The first ten factorials are: [1, 1, 2, 6, 24, 120, 720, 5040, 40320, 362880, 3628800]\n"
     ]
    }
   ],
   "source": [
    "def fact(n):\n",
    "    if n==0:\n",
    "        return 1\n",
    "    else:\n",
    "        return n*fact(n-1)\n",
    "    \n",
    "factorials=[fact(i) for i in range(11)]\n",
    "\n",
    "print('The first ten factorials are:' , factorials)"
   ]
  },
  {
   "cell_type": "markdown",
   "id": "dbc87b65-6b83-4325-8ba9-9a226f8ef508",
   "metadata": {},
   "source": [
    "### 40. Check if two lists have at least one element in common."
   ]
  },
  {
   "cell_type": "code",
   "execution_count": 4,
   "id": "47dc356a-addc-4c48-ad7d-ce3483737a93",
   "metadata": {},
   "outputs": [
    {
     "name": "stdout",
     "output_type": "stream",
     "text": [
      "there are common elements in the lists k and l\n"
     ]
    }
   ],
   "source": [
    "def have_common_elements(k,l):\n",
    "    \n",
    "    for item in k:\n",
    "        if item in l:\n",
    "            return True\n",
    "    else:\n",
    "        return False\n",
    "    \n",
    "k=[2,3,6,5,7,46,4,6,34,6]\n",
    "l=[3,2,4,5,54,64,34,1]\n",
    "\n",
    "if have_common_elements(k,l):\n",
    "    print('There are common elements in the lists k and l')\n",
    "else:\n",
    "    print('There are no common elemebts in the lists k and l')   "
   ]
  },
  {
   "cell_type": "markdown",
   "id": "687165f8-7fb3-4e65-b047-398d57c242c9",
   "metadata": {},
   "source": [
    "### 41. Remove all elements from a list."
   ]
  },
  {
   "cell_type": "code",
   "execution_count": 5,
   "id": "2b81a960-f676-4cc8-be2d-03142cc8832a",
   "metadata": {},
   "outputs": [
    {
     "name": "stdout",
     "output_type": "stream",
     "text": [
      "[]\n"
     ]
    }
   ],
   "source": [
    "k=[2,3,6,5,7,46,4,6,34,6]\n",
    "k.clear()\n",
    "print(k)"
   ]
  },
  {
   "cell_type": "markdown",
   "id": "b13ff2e0-51f9-46de-ab0f-bd0716da5b5c",
   "metadata": {},
   "source": [
    "### 42. Replace negative numbers in a list with 0."
   ]
  },
  {
   "cell_type": "code",
   "execution_count": 15,
   "id": "2cf5578c-8c4c-4f7b-8ba7-c9112ed229ba",
   "metadata": {},
   "outputs": [
    {
     "name": "stdout",
     "output_type": "stream",
     "text": [
      "The updated list is: [2, 0, 6, 0, 7, 46, 0, 6, 34, 0]\n"
     ]
    }
   ],
   "source": [
    "s=[2,-3,6,-5,7,46,-4,6,34,-6]\n",
    "\n",
    "for i in range(len(s)):\n",
    "    if s[i]<0:\n",
    "        s[i]=0\n",
    "print('The updated list is:', s)\n",
    "\n",
    "\n"
   ]
  },
  {
   "cell_type": "markdown",
   "id": "bdc992eb-bf21-41dc-86f9-0dce87edbcca",
   "metadata": {},
   "source": [
    "### 43. Convert a string into a list of words."
   ]
  },
  {
   "cell_type": "code",
   "execution_count": 29,
   "id": "32736598-a638-4618-9ff7-259feec41147",
   "metadata": {},
   "outputs": [
    {
     "name": "stdout",
     "output_type": "stream",
     "text": [
      "['This', 'assignment', 'is', 'really', 'good']\n"
     ]
    }
   ],
   "source": [
    "s='This assignment is really good'\n",
    "t=s.split(' ')\n",
    "print(t)"
   ]
  },
  {
   "cell_type": "code",
   "execution_count": 30,
   "id": "82feaee7-8e61-4d9d-95d8-d029e4f3d610",
   "metadata": {},
   "outputs": [
    {
     "data": {
      "text/plain": [
       "list"
      ]
     },
     "execution_count": 30,
     "metadata": {},
     "output_type": "execute_result"
    }
   ],
   "source": [
    "type(t)"
   ]
  },
  {
   "cell_type": "markdown",
   "id": "de60935a-16b8-4bd4-8f63-79153629be3a",
   "metadata": {},
   "source": [
    "### 44. Convert a list of words into a string."
   ]
  },
  {
   "cell_type": "code",
   "execution_count": 34,
   "id": "e1923a43-6ff6-4385-85de-4e5f8e1e6913",
   "metadata": {},
   "outputs": [
    {
     "name": "stdout",
     "output_type": "stream",
     "text": [
      "This assignment is really good\n"
     ]
    }
   ],
   "source": [
    "line=['This', 'assignment', 'is', 'really', 'good']\n",
    "string=' '.join(line)\n",
    "print(string)"
   ]
  },
  {
   "cell_type": "code",
   "execution_count": 35,
   "id": "186c2d9a-0f49-4057-aaac-906530ddc22e",
   "metadata": {},
   "outputs": [
    {
     "data": {
      "text/plain": [
       "str"
      ]
     },
     "execution_count": 35,
     "metadata": {},
     "output_type": "execute_result"
    }
   ],
   "source": [
    "type(string)"
   ]
  },
  {
   "cell_type": "markdown",
   "id": "840786cd-ab69-4063-b9c0-e26072dd23e4",
   "metadata": {},
   "source": [
    "### 45. Create a list of the first `n` powers of 2."
   ]
  },
  {
   "cell_type": "code",
   "execution_count": 50,
   "id": "54985781-4c74-4b09-82ba-cb90fbe83de6",
   "metadata": {},
   "outputs": [
    {
     "name": "stdin",
     "output_type": "stream",
     "text": [
      "enter a integer value: 9\n"
     ]
    },
    {
     "name": "stdout",
     "output_type": "stream",
     "text": [
      "81\n"
     ]
    }
   ],
   "source": [
    "def power(n):\n",
    "    return n**2\n",
    "    \n",
    "n=int(input('enter a integer value:'))\n",
    "\n",
    "p= power(n)\n",
    "print(p)"
   ]
  },
  {
   "cell_type": "markdown",
   "id": "410592c6-c621-4529-8450-3ada7650d2a4",
   "metadata": {},
   "source": [
    "### 46. Find the longest string in a list of strings."
   ]
  },
  {
   "cell_type": "code",
   "execution_count": 63,
   "id": "9fcfe3fc-c5fa-4f27-ade3-e900a34a8bda",
   "metadata": {},
   "outputs": [
    {
     "name": "stdout",
     "output_type": "stream",
     "text": [
      "The longest string in the list s is: assignment\n"
     ]
    }
   ],
   "source": [
    "def Longest_string(string):\n",
    "    \n",
    "    longer=string[0]\n",
    "    \n",
    "    for i in string:\n",
    "        if len(i)>len(longer):\n",
    "            longer=i\n",
    "    return longer  \n",
    "\n",
    "\n",
    "s=['This', 'assignment', 'is', 'really', 'good']\n",
    "\n",
    "t=Longest_string(s)\n",
    "print('The longest string in the list s is:', t)"
   ]
  },
  {
   "cell_type": "markdown",
   "id": "c979eec6-a71a-46a9-9835-49093d778d47",
   "metadata": {},
   "source": [
    "### 47. Find the shortest string in a list of strings."
   ]
  },
  {
   "cell_type": "code",
   "execution_count": 67,
   "id": "a6989f35-4c4a-4cb7-ab38-6ea6b02076bf",
   "metadata": {},
   "outputs": [
    {
     "name": "stdout",
     "output_type": "stream",
     "text": [
      "The shortest string :::::: is\n"
     ]
    }
   ],
   "source": [
    "def shortest_string(l):\n",
    "    \n",
    "    shortest=l[0]\n",
    "    \n",
    "    for i in l:\n",
    "        if len(i)<len(shortest):\n",
    "            shortest=i\n",
    "    return shortest\n",
    "\n",
    "\n",
    "s=['This', 'assignment', 'is', 'really', 'good']\n",
    "\n",
    "m=shortest_string(s)\n",
    "print('The shortest string ::::::', m)"
   ]
  },
  {
   "cell_type": "markdown",
   "id": "54dc48a7-67b6-492f-9d95-0fade96f1039",
   "metadata": {},
   "source": [
    "### 48. Create a list of the first `n` triangular numbers"
   ]
  },
  {
   "cell_type": "code",
   "execution_count": 77,
   "id": "ddab76d5-3b99-4db0-aac9-bad5586cd1c0",
   "metadata": {},
   "outputs": [
    {
     "name": "stdin",
     "output_type": "stream",
     "text": [
      "enter a integer value for n:  6\n"
     ]
    },
    {
     "name": "stdout",
     "output_type": "stream",
     "text": [
      "The first 6 traingular numbers are: [1, 3, 6, 10, 15, 21]\n"
     ]
    }
   ],
   "source": [
    "def Traingular(n):\n",
    "    triangles=[]\n",
    "    \n",
    "    for i in range(1,n+1):\n",
    "        triangles.append ((i*(i+1))//2)\n",
    "    return triangles\n",
    "\n",
    "m=int(input('enter a integer value for n: '))\n",
    "n=Traingular(m)\n",
    "\n",
    "print(f'The first {m} traingular numbers are:', n)\n",
    "        "
   ]
  },
  {
   "cell_type": "markdown",
   "id": "53bb5410-a186-4b5d-868d-450b51beae9e",
   "metadata": {},
   "source": [
    "### 49. Check if a list contains another list as a subsequence."
   ]
  },
  {
   "cell_type": "code",
   "execution_count": 80,
   "id": "75c6e89b-84a2-4e0a-a876-6bb617812416",
   "metadata": {},
   "outputs": [
    {
     "name": "stdout",
     "output_type": "stream",
     "text": [
      "Subsequence found in the sequence\n"
     ]
    }
   ],
   "source": [
    "def is_subsequence(subsequence, sequence):\n",
    "    subsequence_count=0\n",
    "    sequence_count=0\n",
    "\n",
    "    while subsequence_count < len(subsequence) and sequence_count < len(sequence):\n",
    "        \n",
    "        if subsequence[subsequence_count] == sequence[sequence_count]:\n",
    "            subsequence_count += 1\n",
    "        sequence_count += 1\n",
    "        \n",
    "    return subsequence_count == len(subsequence)\n",
    "\n",
    "\n",
    "sequence = [1, 2, 3, 4, 5, 6, 7]\n",
    "subsequence = [3, 4, 5]\n",
    "\n",
    "if is_subsequence(subsequence, sequence):\n",
    "    print('Subsequence found in the sequence')\n",
    "else:\n",
    "    print('Subsequence not found in the sequence')"
   ]
  },
  {
   "cell_type": "markdown",
   "id": "b737e9df-5fcb-4503-bdfd-08cb96402833",
   "metadata": {},
   "source": [
    "### 50. Swap two elements in a list by their indices."
   ]
  },
  {
   "cell_type": "code",
   "execution_count": 104,
   "id": "e0649583-004a-4aec-b38b-3d77b6f7efb1",
   "metadata": {},
   "outputs": [
    {
     "name": "stdout",
     "output_type": "stream",
     "text": [
      "swapped values of k are: ['This', 'assignment', 'jitesh', 'going', 'really', 'cancer', 'good']\n",
      "swapped values of l are: ['Ramesh', 'suresh', 'is', 'mukesh', 'panbeeda', 'very', 'ganguly']\n"
     ]
    }
   ],
   "source": [
    "k=['This', 'assignment', 'is', 'going','really','very', 'good']\n",
    "l=['Ramesh', 'suresh', 'jitesh', 'mukesh', 'panbeeda', 'cancer', 'ganguly']\n",
    "\n",
    "temp=k[2],k[5],l[2],l[5]\n",
    "\n",
    "\n",
    "k[2],k[5]=temp[2],temp[3]\n",
    "l[2],l[5]=temp[0],temp[1]\n",
    "\n",
    "print('swapped values of k are:', k)\n",
    "print('swapped values of l are:',l)"
   ]
  },
  {
   "cell_type": "markdown",
   "id": "00965e8e-d270-4022-8756-902732929e55",
   "metadata": {},
   "source": [
    "## Tuple based practice problems"
   ]
  },
  {
   "cell_type": "markdown",
   "id": "96b3214d-dee8-45cd-82a7-aa797555f357",
   "metadata": {},
   "source": [
    "### 1. Create a tuple with integers from 1 to 5."
   ]
  },
  {
   "cell_type": "code",
   "execution_count": 172,
   "id": "0e23c6c2-800f-46d6-a9f2-ddd917d193f6",
   "metadata": {},
   "outputs": [
    {
     "name": "stdout",
     "output_type": "stream",
     "text": [
      "(1, 2, 3, 4, 5)\n"
     ]
    }
   ],
   "source": [
    "t=(1,2,3,4,5)\n",
    "print(t)"
   ]
  },
  {
   "cell_type": "markdown",
   "id": "3a7388cc-6274-419f-b725-0c6a2da66fee",
   "metadata": {},
   "source": [
    "### 2. Access the third element of a tuple."
   ]
  },
  {
   "cell_type": "code",
   "execution_count": 173,
   "id": "1c30ebc4-13b6-45c5-8635-9058d45362d7",
   "metadata": {},
   "outputs": [
    {
     "data": {
      "text/plain": [
       "3"
      ]
     },
     "execution_count": 173,
     "metadata": {},
     "output_type": "execute_result"
    }
   ],
   "source": [
    "t=(1,2,3,4,5)\n",
    "t[2]"
   ]
  },
  {
   "cell_type": "markdown",
   "id": "2df20ed7-c78d-499e-812d-0e8840a3fded",
   "metadata": {},
   "source": [
    "### 3. Find the length of a tuple without using the `len()` function."
   ]
  },
  {
   "cell_type": "code",
   "execution_count": 174,
   "id": "b9e4c258-737b-4d91-936e-763eb96857fc",
   "metadata": {},
   "outputs": [
    {
     "name": "stdout",
     "output_type": "stream",
     "text": [
      "Length of tuple is: 6\n"
     ]
    }
   ],
   "source": [
    "def length(t):\n",
    "    count=0\n",
    "    for i in t:\n",
    "        count+=1\n",
    "    return count\n",
    "\n",
    "t=(1,2,3,4,5,6)\n",
    "\n",
    "length_of_tuple= length(t)\n",
    "print('Length of tuple is:', length_of_tuple)"
   ]
  },
  {
   "cell_type": "markdown",
   "id": "371c4bc8-d676-4647-87a0-73159dc0a60e",
   "metadata": {},
   "source": [
    "### 4. Count the occurrences of an element in a tuple."
   ]
  },
  {
   "cell_type": "code",
   "execution_count": 175,
   "id": "6b86739f-50f4-43e6-892f-22bd9e97cc50",
   "metadata": {},
   "outputs": [
    {
     "name": "stdout",
     "output_type": "stream",
     "text": [
      "The element Mysore appears 2 times in tuple h\n"
     ]
    }
   ],
   "source": [
    "h=('Bangalore', 'Mangalore', 'Mysore', 'Dharawada', 'Mysore')\n",
    "\n",
    "element='Mysore'\n",
    "count=0\n",
    "for i in h:\n",
    "    if i==element:\n",
    "        count+=1\n",
    "print(f'The element {element} appears {count} times in tuple h')\n",
    "        "
   ]
  },
  {
   "cell_type": "markdown",
   "id": "5413cbcd-a7c3-4447-be87-c451cda18585",
   "metadata": {},
   "source": [
    "### 5. Find the index of the first occurrence of an element in a tuple."
   ]
  },
  {
   "cell_type": "code",
   "execution_count": 176,
   "id": "2e866420-9a41-4bbb-a347-ef029edb6d34",
   "metadata": {},
   "outputs": [
    {
     "name": "stdout",
     "output_type": "stream",
     "text": [
      "The index of element Mysore in tuple h is: 2\n"
     ]
    }
   ],
   "source": [
    "h=('Bangalore', 'Mangalore', 'Mysore', 'Dharawada', 'Mysore')\n",
    "\n",
    "element='Mysore'\n",
    "\n",
    "try:\n",
    "    index=h.index(element)\n",
    "    print(f'The index of element {element} in tuple h is:', index)\n",
    "except ValueError:  \n",
    "    print(f'The element {element} is not in tuple h')"
   ]
  },
  {
   "cell_type": "markdown",
   "id": "55e40641-3222-4eb6-b7b4-dbec4b543913",
   "metadata": {},
   "source": [
    "### 6. Check if an element exists in a tuple."
   ]
  },
  {
   "cell_type": "code",
   "execution_count": 177,
   "id": "a46d3514-f8f5-4b96-8940-367f8402bf58",
   "metadata": {},
   "outputs": [
    {
     "name": "stdout",
     "output_type": "stream",
     "text": [
      " element Mysore is available in tuple h\n"
     ]
    }
   ],
   "source": [
    "h=('Bangalore', 'Mangalore', 'Mysore', 'Dharawada', 'Mysore')\n",
    "\n",
    "element='Mysore'\n",
    "\n",
    "for item in h:\n",
    "    if item==element:\n",
    "        print(f' element {element} is available in tuple h')\n",
    "        break\n",
    "else:\n",
    "    print('f element {element} is not available in tuple h')"
   ]
  },
  {
   "cell_type": "markdown",
   "id": "70967e75-296e-4323-8b7e-012b25ecadf0",
   "metadata": {},
   "source": [
    "### 7. Convert a tuple to a list."
   ]
  },
  {
   "cell_type": "code",
   "execution_count": 178,
   "id": "fc34b74f-0cd6-42b0-bd1e-02d832244bed",
   "metadata": {},
   "outputs": [
    {
     "name": "stdout",
     "output_type": "stream",
     "text": [
      "<class 'list'>\n"
     ]
    }
   ],
   "source": [
    "h=('Bangalore', 'Mangalore', 'Mysore', 'Dharawada', 'Mysore')\n",
    "j=list(h)\n",
    "print(type(j))"
   ]
  },
  {
   "cell_type": "markdown",
   "id": "f056427e-1494-4787-acd9-8270ab390db9",
   "metadata": {},
   "source": [
    "### 8. Convert a list to a tuple."
   ]
  },
  {
   "cell_type": "code",
   "execution_count": 1,
   "id": "7bd072cf-6a05-4327-8df5-66e07fe94fce",
   "metadata": {},
   "outputs": [
    {
     "name": "stdout",
     "output_type": "stream",
     "text": [
      "<class 'tuple'>\n"
     ]
    }
   ],
   "source": [
    "h=['Bangalore', 'Mangalore', 'Mysore', 'Dharawada', 'Mysore']\n",
    "j=tuple(h)\n",
    "print(type(j))"
   ]
  },
  {
   "cell_type": "markdown",
   "id": "64faf37c-cdcc-4c75-b9bc-cf404699dd9c",
   "metadata": {},
   "source": [
    "### 9. Unpack the elements of a tuple into variables."
   ]
  },
  {
   "cell_type": "code",
   "execution_count": 2,
   "id": "cc81073f-e47c-4f31-9756-6be4767cf1fd",
   "metadata": {},
   "outputs": [
    {
     "name": "stdout",
     "output_type": "stream",
     "text": [
      "Bangalore\n",
      "Mangalore\n",
      "Mysore\n",
      "Dharawada\n",
      "Mysore\n"
     ]
    }
   ],
   "source": [
    "h=('Bangalore', 'Mangalore', 'Mysore', 'Dharawada', 'Mysore')\n",
    "var1, var2, var3, var4, var5 = h\n",
    "print(var1)\n",
    "print(var2)\n",
    "print(var3)\n",
    "print(var4)\n",
    "print(var5)\n"
   ]
  },
  {
   "cell_type": "markdown",
   "id": "a7b7141b-ccc5-4f01-81b6-274158dff50a",
   "metadata": {},
   "source": [
    "### 10. Create a tuple of even numbers from 1 to 10."
   ]
  },
  {
   "cell_type": "code",
   "execution_count": 3,
   "id": "cbfe9370-3e92-45bd-ab77-cc4726981b1a",
   "metadata": {},
   "outputs": [
    {
     "name": "stdout",
     "output_type": "stream",
     "text": [
      "The tuple of even numbers from 1 to 10 are: (2, 4, 6, 8, 10)\n"
     ]
    }
   ],
   "source": [
    "t=()\n",
    "for i in range(1,11):\n",
    "    if i%2==0:\n",
    "        t+=(i,)\n",
    "print('The tuple of even numbers from 1 to 10 are:', t)"
   ]
  },
  {
   "cell_type": "markdown",
   "id": "67484cd7-cb31-48b8-b97d-37dfff7f4e6a",
   "metadata": {},
   "source": [
    "### 11. Create a tuple of odd numbers from 1 to 10."
   ]
  },
  {
   "cell_type": "code",
   "execution_count": 4,
   "id": "f1b30654-364c-4f79-9677-fa3c35011f24",
   "metadata": {},
   "outputs": [
    {
     "name": "stdout",
     "output_type": "stream",
     "text": [
      "The tuple of off numbers from 1 to 10 are: (1, 3, 5, 7, 9)\n"
     ]
    }
   ],
   "source": [
    "t=()\n",
    "\n",
    "for i in range (1,11):\n",
    "    if i%2!=0:\n",
    "        t+=(i,)\n",
    "print('The tuple of off numbers from 1 to 10 are:', t)"
   ]
  },
  {
   "cell_type": "markdown",
   "id": "12947fd7-b9e4-4821-975e-3e0f8b983a51",
   "metadata": {},
   "source": [
    "### 12. Concatenate two tuples."
   ]
  },
  {
   "cell_type": "code",
   "execution_count": 5,
   "id": "3b2f6a9a-2a08-4c77-88f7-13f2b58ac6b6",
   "metadata": {},
   "outputs": [
    {
     "name": "stdout",
     "output_type": "stream",
     "text": [
      "(1, 2, 3, 4, 5, 2, 4, 6, 8)\n"
     ]
    }
   ],
   "source": [
    "s=(1,2,3,4,5)\n",
    "t=(2,4,6,8)\n",
    "u=s+t\n",
    "print(u)"
   ]
  },
  {
   "cell_type": "markdown",
   "id": "b1200cdf-5cfe-4e01-a600-44ade469f6d4",
   "metadata": {},
   "source": [
    "### 13. Repeat a tuple three times."
   ]
  },
  {
   "cell_type": "code",
   "execution_count": 6,
   "id": "c8a96487-c6c4-4943-b7ee-b880b14f801f",
   "metadata": {},
   "outputs": [
    {
     "name": "stdout",
     "output_type": "stream",
     "text": [
      "(1, 2, 3, 4, 5, 1, 2, 3, 4, 5, 1, 2, 3, 4, 5)\n"
     ]
    }
   ],
   "source": [
    "s=(1,2,3,4,5)\n",
    "t=s*3\n",
    "print(t)"
   ]
  },
  {
   "cell_type": "markdown",
   "id": "6c84c514-87a6-40c6-893c-2f2b96502aed",
   "metadata": {},
   "source": [
    "### 14. Check if a tuple is empty."
   ]
  },
  {
   "cell_type": "code",
   "execution_count": 7,
   "id": "75622f9b-9060-4f6f-8491-73de537dbe3a",
   "metadata": {},
   "outputs": [
    {
     "name": "stdout",
     "output_type": "stream",
     "text": [
      "The tuple s in not empty\n"
     ]
    }
   ],
   "source": [
    "s=(1,2,3,4,5)\n",
    "\n",
    "if not s:\n",
    "    print('The tuple is empty')\n",
    "else:\n",
    "    print('The tuple s in not empty')"
   ]
  },
  {
   "cell_type": "markdown",
   "id": "e03c748d-c21b-454a-bb05-14f3e176271a",
   "metadata": {},
   "source": [
    "### 15. Create a nested tuple."
   ]
  },
  {
   "cell_type": "code",
   "execution_count": 8,
   "id": "67b6c9c5-ead3-4758-92de-f5fd9f950ff2",
   "metadata": {},
   "outputs": [
    {
     "name": "stdout",
     "output_type": "stream",
     "text": [
      "Nested tuple is: (1, 2, 3, 4, 5, (2, 3, 4, 5, 6), 2, 4, 6, 8)\n"
     ]
    }
   ],
   "source": [
    "s=(1,2,3,4,5,(2,3,4,5,6))\n",
    "t=(2,4,6,8)\n",
    "\n",
    "Nested_t=s+t\n",
    "\n",
    "print('Nested tuple is:', Nested_t)"
   ]
  },
  {
   "cell_type": "markdown",
   "id": "a6eed624-dc6b-433a-a7e1-0e7ee89d141b",
   "metadata": {},
   "source": [
    "### 16. Access the first element of a nested tuple."
   ]
  },
  {
   "cell_type": "code",
   "execution_count": 9,
   "id": "c8196163-e9b2-4946-b127-462b1a406139",
   "metadata": {},
   "outputs": [
    {
     "name": "stdout",
     "output_type": "stream",
     "text": [
      "First element of the nested tuple is: 1\n"
     ]
    }
   ],
   "source": [
    "print('First element of the nested tuple is:', Nested_t[0])"
   ]
  },
  {
   "cell_type": "markdown",
   "id": "3da1acc6-8a59-41cd-8f08-c725d3f12c8f",
   "metadata": {},
   "source": [
    "### 17. Create a tuple with a single element."
   ]
  },
  {
   "cell_type": "code",
   "execution_count": 10,
   "id": "2afec674-6717-4c0b-b8f5-f70ea52127c2",
   "metadata": {},
   "outputs": [
    {
     "name": "stdout",
     "output_type": "stream",
     "text": [
      "<class 'tuple'>\n"
     ]
    }
   ],
   "source": [
    "t=('Python',)\n",
    "print(type(t))"
   ]
  },
  {
   "cell_type": "markdown",
   "id": "02a56e2b-317c-4e86-b22a-5e43cd40f145",
   "metadata": {},
   "source": [
    "### 18. Compare two tuples."
   ]
  },
  {
   "cell_type": "code",
   "execution_count": 11,
   "id": "c042e6fa-a12a-4de4-b81d-334265f50399",
   "metadata": {},
   "outputs": [
    {
     "name": "stdout",
     "output_type": "stream",
     "text": [
      "Tuples s and t are not equal\n",
      "After comparing both the tuples, the common elements are: (2, 4)\n"
     ]
    }
   ],
   "source": [
    "s=(1,2,3,4,5)\n",
    "t=(2,4,6,8)\n",
    "\n",
    "if s==t:\n",
    "    print('Tuples s and t are equal')\n",
    "else:\n",
    "    print('Tuples s and t are not equal')\n",
    "    \n",
    "    \n",
    "u=()\n",
    "for item in s:\n",
    "    if item in t:\n",
    "        u+=(item,)\n",
    "print('After comparing both the tuples, the common elements are:', u)"
   ]
  },
  {
   "cell_type": "markdown",
   "id": "ef61efc2-885b-4724-a708-3c08c8a5865a",
   "metadata": {},
   "source": [
    "### 19. Delete a tuple."
   ]
  },
  {
   "cell_type": "code",
   "execution_count": 12,
   "id": "a99505f5-f277-4a23-96be-b2acdbdfe25e",
   "metadata": {},
   "outputs": [
    {
     "name": "stdout",
     "output_type": "stream",
     "text": [
      "()\n"
     ]
    }
   ],
   "source": [
    "s=(1,2,3,4,5)\n",
    "s=()\n",
    "print(s)"
   ]
  },
  {
   "cell_type": "markdown",
   "id": "fd5a37e6-1b8d-43c0-909a-fa149381a5ca",
   "metadata": {},
   "source": [
    "### 20. Slice a tuple."
   ]
  },
  {
   "cell_type": "code",
   "execution_count": 13,
   "id": "a528159a-1d88-41da-b365-714f38ee9242",
   "metadata": {},
   "outputs": [
    {
     "name": "stdout",
     "output_type": "stream",
     "text": [
      "elements of sliced tuple from tuple s are: (3, 4, 5)\n"
     ]
    }
   ],
   "source": [
    "s=(2,3,4,5,6,4,67,8,5)\n",
    "t=s[1:4:1]\n",
    "\n",
    "print('elements of sliced tuple from tuple s are:', t)\n"
   ]
  },
  {
   "cell_type": "markdown",
   "id": "350b594c-d48c-4ff5-af48-7037b8b5ab07",
   "metadata": {},
   "source": [
    "### 21. Find the maximum value in a tuple."
   ]
  },
  {
   "cell_type": "code",
   "execution_count": 14,
   "id": "8c54779e-30a0-4f1e-ac59-5ed196c6b3fc",
   "metadata": {},
   "outputs": [
    {
     "name": "stdout",
     "output_type": "stream",
     "text": [
      "Maximum vaulue in the tuple is: 778\n"
     ]
    }
   ],
   "source": [
    "t=(23,4,1,34,31,56,81,8,5,778,8,36,5)\n",
    "\n",
    "max_value=max(t)\n",
    "\n",
    "    \n",
    "print('Maximum vaulue in the tuple is:', max_value)"
   ]
  },
  {
   "cell_type": "markdown",
   "id": "ecf9f95e-2ffe-42e2-8640-b2f70073532a",
   "metadata": {},
   "source": [
    "### 22. Find the minimum value in a tuple."
   ]
  },
  {
   "cell_type": "code",
   "execution_count": 15,
   "id": "749360ca-4141-47dc-ae7f-27d40c0c2cb1",
   "metadata": {},
   "outputs": [
    {
     "name": "stdout",
     "output_type": "stream",
     "text": [
      "minimum value in the tuple is: 1\n"
     ]
    }
   ],
   "source": [
    "t=(23,4,1,34,31,56,81,8,5,778,8,36,5)\n",
    "\n",
    "min_value=min(t)\n",
    "print('minimum value in the tuple is:', min_value)"
   ]
  },
  {
   "cell_type": "markdown",
   "id": "e0fba5ba-e066-4fb9-b6f0-5d49d95de7c2",
   "metadata": {},
   "source": [
    "### 23. Convert a string to a tuple of characters."
   ]
  },
  {
   "cell_type": "code",
   "execution_count": 23,
   "id": "b18c33f6-3603-49c3-89e2-d3d1b1920617",
   "metadata": {},
   "outputs": [
    {
     "name": "stdout",
     "output_type": "stream",
     "text": [
      "Elements of Tuple converted from string is: ('d', 'n', 't', 'h', 'e', 'V', 'a')\n"
     ]
    }
   ],
   "source": [
    "string='Vedanth'\n",
    "f=set(string)\n",
    "g=tuple(f)\n",
    "print('Elements of Tuple converted from string is:', g)"
   ]
  },
  {
   "cell_type": "markdown",
   "id": "e0fc51c3-0c6b-4277-8d98-e1346ae6b9d2",
   "metadata": {},
   "source": [
    "### 24. Convert a tuple of characters to a string."
   ]
  },
  {
   "cell_type": "code",
   "execution_count": 30,
   "id": "ac277ea5-17d6-4f96-86b8-f9144b97dea2",
   "metadata": {},
   "outputs": [
    {
     "name": "stdout",
     "output_type": "stream",
     "text": [
      "string converted from tuple is: vedanth\n"
     ]
    }
   ],
   "source": [
    "t=('v','e','d','a','n','t','h')\n",
    "u=''.join(t)\n",
    "print('string converted from tuple is:', u)"
   ]
  },
  {
   "cell_type": "markdown",
   "id": "c929fb3d-c695-43c8-b4e5-ff4a47e690c1",
   "metadata": {},
   "source": [
    "### 25. Create a tuple from multiple data types."
   ]
  },
  {
   "cell_type": "code",
   "execution_count": 35,
   "id": "efda52dc-961b-4040-9dac-fadd05b4b309",
   "metadata": {},
   "outputs": [
    {
     "name": "stdout",
     "output_type": "stream",
     "text": [
      "Tuple with a set, int, float, complex, and a list is: (1, 4, 3, 'vedanth', (3+4j), 3.43434, True, [2, 4, 23, 'Ranganath'])\n"
     ]
    }
   ],
   "source": [
    "s='vedanth'\n",
    "l=[2,4,23,'Ranganath']\n",
    "d=(1,4,3,(s), (3+4J), 3.43434, True, l)\n",
    "print('Tuple with a set, int, float, complex, and a list is:', d)"
   ]
  },
  {
   "cell_type": "markdown",
   "id": "fa0c590f-ceaf-45df-8e94-49e5473fdde7",
   "metadata": {},
   "source": [
    "### 26. Check if two tuples are identical."
   ]
  },
  {
   "cell_type": "code",
   "execution_count": 38,
   "id": "ea0099c9-c3d2-4c54-ba98-31f3001ede2f",
   "metadata": {},
   "outputs": [
    {
     "name": "stdout",
     "output_type": "stream",
     "text": [
      "tuples s and t are identical\n",
      "tuples u and v are not identical\n"
     ]
    }
   ],
   "source": [
    "s=(1,2,3)\n",
    "t=(1,2,3)\n",
    "if s==t:\n",
    "    print('tuples s and t are identical')\n",
    "else:\n",
    "    print('tuples s and t are not identical')\n",
    "\n",
    "u=(2,'ved',3)\n",
    "v=(3,2,'ved')\n",
    "\n",
    "if u==v:\n",
    "    print('tuples u and v are identical')\n",
    "else:\n",
    "    print('tuples u and v are not identical')\n"
   ]
  },
  {
   "cell_type": "markdown",
   "id": "b49b117b-1f49-42d0-ad29-6d2f7430b4f9",
   "metadata": {},
   "source": [
    "### 27. Sort the elements of a tuple."
   ]
  },
  {
   "cell_type": "code",
   "execution_count": 48,
   "id": "02803411-b55d-481d-a643-f34853c8d224",
   "metadata": {},
   "outputs": [
    {
     "name": "stdout",
     "output_type": "stream",
     "text": [
      "Elements of sorted tuple are: (1, 1, 4, 5, 8, 9, 12, 15, 23, 42, 52, 78, 89, 93)\n"
     ]
    }
   ],
   "source": [
    "s=(1,4,1,8,5,23,42,15,52,12,78,89,93,9)\n",
    "t=tuple(sorted(s))\n",
    "print('Elements of sorted tuple are:', t)"
   ]
  },
  {
   "cell_type": "markdown",
   "id": "cf5fa238-f09c-42b9-a836-5ad2cf1b07f7",
   "metadata": {},
   "source": [
    "### 28. Convert a tuple of integers to a tuple of strings"
   ]
  },
  {
   "cell_type": "code",
   "execution_count": 57,
   "id": "c66bbe05-92c8-4652-a12f-c3040307e109",
   "metadata": {},
   "outputs": [
    {
     "name": "stdout",
     "output_type": "stream",
     "text": [
      "string converted from tuple is: ('2', '3', '5', '6', '1', '8', '4')\n",
      "Type: <class 'tuple'>\n"
     ]
    }
   ],
   "source": [
    "t=('2','3','5','6','1','8','4')\n",
    "u=tuple(str(i) for i in t)\n",
    "print('string converted from tuple is:', u)\n",
    "print('Type:', type(u))"
   ]
  },
  {
   "cell_type": "markdown",
   "id": "b6891b50-5eee-4dd9-bddd-dd353fecff4b",
   "metadata": {},
   "source": [
    "### 29. Convert a tuple of strings to a tuple of integers."
   ]
  },
  {
   "cell_type": "code",
   "execution_count": 61,
   "id": "336f528d-eb3b-40cc-a737-b4528643635d",
   "metadata": {},
   "outputs": [
    {
     "name": "stdout",
     "output_type": "stream",
     "text": [
      "string converted from tuple is: (2, 3, 5, 6, 1, 8, 4)\n",
      "Type: <class 'tuple'>\n"
     ]
    }
   ],
   "source": [
    "t=('2','3','5','6','1','8','4')\n",
    "u=tuple(int(i) for i in t)\n",
    "print('string converted from tuple is:', u)\n",
    "print('Type:', type(u))"
   ]
  },
  {
   "cell_type": "markdown",
   "id": "215d4ebd-72f4-4ec5-9d65-5d84771ae079",
   "metadata": {},
   "source": [
    "### 30. Merge two tuples."
   ]
  },
  {
   "cell_type": "code",
   "execution_count": 64,
   "id": "e2538a33-afe0-4192-8632-46081dac8dd6",
   "metadata": {},
   "outputs": [
    {
     "name": "stdout",
     "output_type": "stream",
     "text": [
      "Merged tuple is: (1, 2, 3, 4, 5, 6, 7, 9, 12, 18, 24, 26)\n"
     ]
    }
   ],
   "source": [
    "s=(1,2,4,9,5,7,3,6)\n",
    "t=(12,24,26,18)\n",
    "\n",
    "u=tuple(sorted(s)) + tuple(sorted(t))\n",
    "\n",
    "print('Merged tuple is:', u)\n"
   ]
  },
  {
   "cell_type": "markdown",
   "id": "948d8247-eeca-48a1-bf50-543f1bcb5ffc",
   "metadata": {},
   "source": [
    "### 31. Flatten a nested tuple."
   ]
  },
  {
   "cell_type": "code",
   "execution_count": 69,
   "id": "936b9245-0250-4f69-90a5-f4791b855f5f",
   "metadata": {},
   "outputs": [
    {
     "name": "stdout",
     "output_type": "stream",
     "text": [
      "Elements of flatten tuple t are: [23, 4, 1, 34, 31, 56, 81, 8, 5, 778, 8, 36, 5]\n"
     ]
    }
   ],
   "source": [
    "def flatten_t(s):\n",
    "    \n",
    "    flat_t=[]\n",
    "    \n",
    "    for i in s:\n",
    "        if isinstance(i, tuple):\n",
    "            flat_t.extend(flatten_t(i))\n",
    "        else:\n",
    "            flat_t.append(i)\n",
    "    return(flat_t)\n",
    "\n",
    "s=(23,4,1,34,31,56,(81,8,5,778),8,36,5)\n",
    "\n",
    "u=flatten_t(s)\n",
    "print('Elements of flatten tuple t are:', u)\n"
   ]
  },
  {
   "cell_type": "markdown",
   "id": "9b8c934a-4f00-4330-82f9-e4d0c6797544",
   "metadata": {},
   "source": [
    "### 32. Create a tuple of the first 5 prime numbers."
   ]
  },
  {
   "cell_type": "code",
   "execution_count": 94,
   "id": "96636c77-8521-41b1-a9db-851b88be811c",
   "metadata": {},
   "outputs": [
    {
     "name": "stdout",
     "output_type": "stream",
     "text": [
      "2 3 5 7 11 "
     ]
    }
   ],
   "source": [
    "for num in range (2,12):\n",
    "    prime=True\n",
    "    for i in range (2, num):\n",
    "        if (num%i)==0:\n",
    "            prime=False\n",
    "            break\n",
    "            \n",
    "    if prime:\n",
    "        print(num, end=' ') "
   ]
  },
  {
   "cell_type": "markdown",
   "id": "78aff09a-e604-477e-a979-47325df500c2",
   "metadata": {},
   "source": [
    "### 33. Check if a tuple is a palindrome."
   ]
  },
  {
   "cell_type": "code",
   "execution_count": 96,
   "id": "8eb15343-a00d-4ad8-a152-52143e1abe20",
   "metadata": {},
   "outputs": [
    {
     "name": "stdout",
     "output_type": "stream",
     "text": [
      "Tuples j and h are palindrome\n",
      "Tuples i and k are not palindrome\n"
     ]
    }
   ],
   "source": [
    "j=(2,3,4,5,6)\n",
    "h=(2,3,4,5,6)\n",
    "\n",
    "i=(2,5,2,3,2,1)\n",
    "k=(4,3,5,2,6,2)\n",
    "\n",
    "\n",
    "if set(j)==set(h):\n",
    "    print('Tuples j and h are palindrome')\n",
    "else:\n",
    "    print('Tuples j and h are not palindrome')\n",
    "    \n",
    "    \n",
    "if set(i)==set(k):\n",
    "    print('Tuples i and k are palindrome')\n",
    "else:\n",
    "    print('Tuples i and k are not palindrome')"
   ]
  },
  {
   "cell_type": "markdown",
   "id": "d63a5313-af48-48cd-aadd-2aa58caf6dee",
   "metadata": {},
   "source": [
    "### 34. Create a tuple of squares of numbers from 1 to 5."
   ]
  },
  {
   "cell_type": "code",
   "execution_count": 103,
   "id": "7a981cea-b744-4eb4-8adf-a87b5696d702",
   "metadata": {},
   "outputs": [
    {
     "name": "stdout",
     "output_type": "stream",
     "text": [
      "Tuple with squared values of numbers 1 to 5 are: (1, 4, 9, 16, 25)\n"
     ]
    }
   ],
   "source": [
    "s=()\n",
    "for i in range (1,6):\n",
    "    squared_value=i*i\n",
    "    s+=(squared_value,)\n",
    "print('Tuple with squared values of numbers 1 to 5 are:', s)"
   ]
  },
  {
   "cell_type": "markdown",
   "id": "d5181818-b125-4cf2-ba9f-80c182a5c248",
   "metadata": {},
   "source": [
    "### 35. Filter out all even numbers from a tuple."
   ]
  },
  {
   "cell_type": "code",
   "execution_count": 106,
   "id": "09eedf45-2eef-4322-96a7-b6d1d8c0f7d8",
   "metadata": {},
   "outputs": [
    {
     "name": "stdout",
     "output_type": "stream",
     "text": [
      "Even numbers in the tuple are: (2, 4, 6, 2, 8, 12, 24, 62)\n"
     ]
    }
   ],
   "source": [
    "r=(2,3,4,6,2,7,3,7,8,12,24,62,31)\n",
    "s=()\n",
    "\n",
    "for i in r:\n",
    "    if i%2==0:\n",
    "        s+=(i,)\n",
    "print('Even numbers in the tuple are:', s)\n"
   ]
  },
  {
   "cell_type": "markdown",
   "id": "c5b8f444-1659-40db-bc2d-1910fccdb223",
   "metadata": {},
   "source": [
    "### 36. Multiply all elements in a tuple by 2."
   ]
  },
  {
   "cell_type": "code",
   "execution_count": 124,
   "id": "18611f7f-5857-4132-a92f-590972a1692d",
   "metadata": {},
   "outputs": [
    {
     "name": "stdout",
     "output_type": "stream",
     "text": [
      "Elements of tuple r after multiplying by 2 are: (4, 6, 8, 12, 4, 14, 6, 14, 16, 24, 48, 124, 62)\n"
     ]
    }
   ],
   "source": [
    "r=(2,3,4,6,2,7,3,7,8,12,24,62,31)\n",
    "r=(tuple(i*2 for i in r))\n",
    "\n",
    "print('Elements of tuple r after multiplying by 2 are:',r)"
   ]
  },
  {
   "cell_type": "markdown",
   "id": "c0a0e406-e445-432d-b213-64d4c6155195",
   "metadata": {},
   "source": [
    "### 37. Create a tuple of random numbers."
   ]
  },
  {
   "cell_type": "code",
   "execution_count": 5,
   "id": "8aafaaeb-c5af-4e0f-91ff-c5ada888b6b4",
   "metadata": {},
   "outputs": [
    {
     "name": "stdout",
     "output_type": "stream",
     "text": [
      "Tuple of random numbers: (2, 34, 34, 12, 4, 3.343434, 24, 1, 13)\n"
     ]
    },
    {
     "data": {
      "text/plain": [
       "tuple"
      ]
     },
     "execution_count": 5,
     "metadata": {},
     "output_type": "execute_result"
    }
   ],
   "source": [
    "s=(2,34,34,12,4,3.343434,24,1,13)\n",
    "print('Tuple of random numbers:', s)\n",
    "type(s)"
   ]
  },
  {
   "cell_type": "markdown",
   "id": "e11f99f6-f04c-45c6-883f-df9fec89d13e",
   "metadata": {},
   "source": [
    "### 38. Check if a tuple is sorted."
   ]
  },
  {
   "cell_type": "code",
   "execution_count": 10,
   "id": "df068c3f-06da-412c-9dbe-a372a245efa0",
   "metadata": {},
   "outputs": [
    {
     "name": "stdout",
     "output_type": "stream",
     "text": [
      "Tuple s is not sorted\n"
     ]
    }
   ],
   "source": [
    "s=(2,34,34,12,4,3.343434,24,1,13)\n",
    "\n",
    "if tuple(sorted(s))==s:\n",
    "         print('Tuple is sorted')\n",
    "else:\n",
    "    print(f'Tuple s is not sorted')\n"
   ]
  },
  {
   "cell_type": "markdown",
   "id": "a3882c88-908c-44ba-92c4-2ded9957c57d",
   "metadata": {},
   "source": [
    "### 39. Rotate a tuple to the left by 'n' positions"
   ]
  },
  {
   "cell_type": "code",
   "execution_count": 2,
   "id": "4517fb06-11c1-4dfb-92c8-ae5b9ae4c1ea",
   "metadata": {},
   "outputs": [
    {
     "name": "stdout",
     "output_type": "stream",
     "text": [
      "Rotated tuple left by 4 elements is: (7, 46, 4, 6, 34, 6, 2, 3, 6, 5)\n"
     ]
    }
   ],
   "source": [
    "def rotated(s,n):\n",
    "    count=n\n",
    " \n",
    "    t=s[n:]+s[:n]      \n",
    "    return(t)\n",
    "    \n",
    "            \n",
    "s=(2,3,6,5,7,46,4,6,34,6)\n",
    "n=4\n",
    "\n",
    "rotated_s=rotated(s,n)\n",
    "print(f'Rotated tuple left by {n} elements is:', rotated_s)\n"
   ]
  },
  {
   "cell_type": "markdown",
   "id": "9d33cf80-7740-47a4-836a-d632cd99c612",
   "metadata": {},
   "source": [
    "### 40. Rotate a tuple to the right by `n` positions."
   ]
  },
  {
   "cell_type": "code",
   "execution_count": 4,
   "id": "99c4a2e2-c798-4e47-9769-abb8fa04f7cf",
   "metadata": {},
   "outputs": [
    {
     "name": "stdout",
     "output_type": "stream",
     "text": [
      "Rotated tuple right by 4 elements is: (4, 6, 34, 6, 2, 3, 6, 5, 7, 46)\n"
     ]
    }
   ],
   "source": [
    "def rotated(s,n):\n",
    "    count=n\n",
    "    \n",
    "    t=s[-n:]+s[:-n]\n",
    "    return(t)\n",
    "\n",
    "s=(2,3,6,5,7,46,4,6,34,6)\n",
    "n=4\n",
    "rotated_s=rotated(s,n)\n",
    "print(f'Rotated tuple right by {n} elements is:', rotated_s)    "
   ]
  },
  {
   "cell_type": "markdown",
   "id": "1a00fb8c-e0c8-4e6b-be9d-e06d5add6544",
   "metadata": {},
   "source": [
    "### 41. Create a tuple of the first 5 Fibonacci numbers."
   ]
  },
  {
   "cell_type": "code",
   "execution_count": 9,
   "id": "013cb2bc-4618-4327-955a-c54b98b84979",
   "metadata": {},
   "outputs": [
    {
     "name": "stdout",
     "output_type": "stream",
     "text": [
      "The first 5 fibonacci numbers are: (0, 1, 1, 2, 3)\n"
     ]
    }
   ],
   "source": [
    "count=5\n",
    "Fibonacci_numbers=[0,1]\n",
    "   \n",
    "while len(Fibonacci_numbers) < count:\n",
    "    \n",
    "    next_number = Fibonacci_numbers[-1] + Fibonacci_numbers[-2]\n",
    "    Fibonacci_numbers.append(next_number)\n",
    "    \n",
    "print ('The first 5 fibonacci numbers are:', tuple(Fibonacci_numbers))"
   ]
  },
  {
   "cell_type": "markdown",
   "id": "bd512e5c-42a2-43ea-adf4-a8ffedf3dbef",
   "metadata": {},
   "source": [
    "### 42. Create a tuple from user input."
   ]
  },
  {
   "cell_type": "code",
   "execution_count": 9,
   "id": "76d63f21-3316-410d-875b-f1bdc9ac2c6b",
   "metadata": {},
   "outputs": [
    {
     "name": "stdin",
     "output_type": "stream",
     "text": [
      "enter the elements for a tuple 2, 3, 7+3j,'Vedanth', 4, True, 3.089812\n"
     ]
    },
    {
     "name": "stdout",
     "output_type": "stream",
     "text": [
      "Tuple with given input is: ('2,', '3,', \"7+3j,'Vedanth',\", '4,', 'True,', '3.089812')\n"
     ]
    },
    {
     "data": {
      "text/plain": [
       "tuple"
      ]
     },
     "execution_count": 9,
     "metadata": {},
     "output_type": "execute_result"
    }
   ],
   "source": [
    "s=input('enter the elements for a tuple')\n",
    "t=s.split()\n",
    "u=tuple(t)\n",
    "print('Tuple with given input is:', u)\n",
    "type(u)"
   ]
  },
  {
   "cell_type": "markdown",
   "id": "9a441f5a-bbb3-4036-a35b-e40ee7d5b73f",
   "metadata": {},
   "source": [
    "### 43. Swap two elements in a tuple."
   ]
  },
  {
   "cell_type": "code",
   "execution_count": 12,
   "id": "1ba977e2-a1fb-4624-8935-eecb71a8988c",
   "metadata": {},
   "outputs": [
    {
     "name": "stdout",
     "output_type": "stream",
     "text": [
      "('Bangalore', 'Mysore', 'Kodagu', 'Karawar', 'Managalore')\n"
     ]
    }
   ],
   "source": [
    "k=('Bangalore', 'Mysore', 'Managalore', 'Karawar', 'Kodagu')\n",
    "\n",
    "m=list(k)\n",
    "n=m[2], m[4]\n",
    "m[2], m[4]=n[1],n[0]\n",
    "\n",
    "print(tuple(m))      \n"
   ]
  },
  {
   "cell_type": "code",
   "execution_count": 18,
   "id": "3aa33d88-c137-4f09-9c12-b15cb8a0f3e8",
   "metadata": {},
   "outputs": [
    {
     "name": "stdout",
     "output_type": "stream",
     "text": [
      "(2, 'Managalore', 6, 'Kodagu', 1)\n",
      "('Bangalore', 'Mysore', 4, 'Karawar', 9)\n"
     ]
    }
   ],
   "source": [
    "### Wanted to try this in addition to the above question\n",
    "j=(2,4,6,9,1)\n",
    "k=('Bangalore', 'Mysore', 'Managalore', 'Karawar', 'Kodagu')\n",
    "\n",
    "l=list(j)\n",
    "m=list(k)\n",
    "\n",
    "n=l[1], l[3], m[2], m[4]\n",
    "\n",
    "l[1],l[3]=n[2],n[3]\n",
    "m[2], m[4]=n[0],n[1]\n",
    "\n",
    "print(tuple(l))\n",
    "\n",
    "print(tuple(m))    "
   ]
  },
  {
   "cell_type": "markdown",
   "id": "c485a9e7-8922-46e3-8c96-1afeb99d340b",
   "metadata": {},
   "source": [
    "### 44. Reverse the elements of a tuple."
   ]
  },
  {
   "cell_type": "code",
   "execution_count": 52,
   "id": "3a8f538f-be52-4563-9d08-70fb58f6e369",
   "metadata": {},
   "outputs": [
    {
     "name": "stdout",
     "output_type": "stream",
     "text": [
      "Reverse Tuple is: ('Kodagu', 'Karawar', 'Managalore', 'Mysore', 'Bangalore')\n"
     ]
    },
    {
     "data": {
      "text/plain": [
       "tuple"
      ]
     },
     "execution_count": 52,
     "metadata": {},
     "output_type": "execute_result"
    }
   ],
   "source": [
    "k=('Bangalore', 'Mysore', 'Managalore', 'Karawar', 'Kodagu')\n",
    "m=list(k)\n",
    "n=m[-1:-6:-1]\n",
    "k=tuple(n)\n",
    "print('Reverse Tuple is:', k)\n",
    "type(k)"
   ]
  },
  {
   "cell_type": "markdown",
   "id": "d53454ef-e9c4-4faf-aaba-2233ad12d51f",
   "metadata": {},
   "source": [
    "### 45. Create a tuple of the first `n` powers of 2."
   ]
  },
  {
   "cell_type": "code",
   "execution_count": 72,
   "id": "8ab2bd3b-45fa-4859-94d7-9196b7307a0a",
   "metadata": {},
   "outputs": [
    {
     "name": "stdout",
     "output_type": "stream",
     "text": [
      "Tuple of First 4 powers of 2 is: (1, 2, 4, 8)\n"
     ]
    },
    {
     "data": {
      "text/plain": [
       "tuple"
      ]
     },
     "execution_count": 72,
     "metadata": {},
     "output_type": "execute_result"
    }
   ],
   "source": [
    "def power_n(n):\n",
    "    count=n\n",
    "\n",
    "    powered=[2**i for i in range (n)]\n",
    "    return tuple(powered)\n",
    "  \n",
    "\n",
    "n=4\n",
    "s= power_n(n)\n",
    "print(f'Tuple of First {n} powers of 2 is:', s)\n",
    "type(s)"
   ]
  },
  {
   "cell_type": "markdown",
   "id": "f9c82784-4691-46db-9bc4-8319a5ff2c0e",
   "metadata": {},
   "source": [
    "### 46. Find the longest string in a tuple of strings."
   ]
  },
  {
   "cell_type": "code",
   "execution_count": 84,
   "id": "dd2758ff-15db-4b33-a042-0b4d6b71318e",
   "metadata": {},
   "outputs": [
    {
     "name": "stdout",
     "output_type": "stream",
     "text": [
      "Longest word in the tuple is: Contemperanious\n"
     ]
    }
   ],
   "source": [
    "k=('Banagalore', 'Contemperanious', 'Consistent', 'Accurate', 'Legible')\n",
    "Longest_word=k[0]\n",
    "\n",
    "for i in k:\n",
    "    if len(i)>len(Longest_word):\n",
    "        Longest_word=i\n",
    "        \n",
    "        print('Longest word in the tuple is:', Longest_word)"
   ]
  },
  {
   "cell_type": "markdown",
   "id": "1d9b0bc6-a487-4b4b-91b0-71cea7ee6f1d",
   "metadata": {},
   "source": [
    "### 47. Find the shortest string in a tuple of strings."
   ]
  },
  {
   "cell_type": "code",
   "execution_count": 88,
   "id": "2122a514-2432-45fe-926f-e3ff4967fc08",
   "metadata": {},
   "outputs": [
    {
     "name": "stdout",
     "output_type": "stream",
     "text": [
      "Shortest word in the tuple is: Legible\n"
     ]
    }
   ],
   "source": [
    "k=('Banagalore', 'Contemperanious', 'Consistent', 'Accurate', 'Legible')\n",
    "Longest_word=k[0]\n",
    "\n",
    "for i in k:\n",
    "    if len(i)<len(Longest_word):\n",
    "        Longest_word=i\n",
    "        \n",
    "print('Shortest word in the tuple is:', Longest_word)"
   ]
  },
  {
   "cell_type": "markdown",
   "id": "b3b6b227-911b-47a4-9b72-b8155d046347",
   "metadata": {},
   "source": [
    "### 48. Create a tuple of the first `n` triangular numbers."
   ]
  },
  {
   "cell_type": "code",
   "execution_count": 91,
   "id": "691a660c-c8dc-4d52-a08b-ade9347e9d93",
   "metadata": {},
   "outputs": [
    {
     "name": "stdin",
     "output_type": "stream",
     "text": [
      "enter a integer value for n:  5\n"
     ]
    },
    {
     "name": "stdout",
     "output_type": "stream",
     "text": [
      "The first 5 traingular numbers are: (1, 3, 6, 10, 15)\n"
     ]
    },
    {
     "data": {
      "text/plain": [
       "tuple"
      ]
     },
     "execution_count": 91,
     "metadata": {},
     "output_type": "execute_result"
    }
   ],
   "source": [
    "def Traingular(n):\n",
    "    triangles=[]\n",
    "    \n",
    "    for i in range(1,n+1):\n",
    "        triangles.append ((i*(i+1))//2)\n",
    "    return tuple(triangles)\n",
    "    \n",
    "m=int(input('enter a integer value for n: '))\n",
    "n=Traingular(m)\n",
    "\n",
    "print(f'The first {m} traingular numbers are:', n)\n",
    "type(n)"
   ]
  },
  {
   "cell_type": "markdown",
   "id": "a9ce7fb2-8da1-4999-afae-87d3a0f3dab0",
   "metadata": {},
   "source": [
    "### 49. Check if a tuple contains another tuple as a subsequence."
   ]
  },
  {
   "cell_type": "code",
   "execution_count": 93,
   "id": "ecb1fd8f-4e7a-41e6-b297-029a005e4bd4",
   "metadata": {},
   "outputs": [
    {
     "name": "stdout",
     "output_type": "stream",
     "text": [
      "Subsequence found in the sequence\n"
     ]
    }
   ],
   "source": [
    "def is_subsequence(subsequence, sequence):\n",
    "    subsequence_count=0\n",
    "    sequence_count=0\n",
    "\n",
    "    while subsequence_count < len(subsequence) and sequence_count < len(sequence):\n",
    "        \n",
    "        if subsequence[subsequence_count] == sequence[sequence_count]:\n",
    "            subsequence_count += 1\n",
    "        sequence_count += 1\n",
    "        \n",
    "    return subsequence_count == len(subsequence)\n",
    "\n",
    "\n",
    "sequence = (1, 2, 3, 4, 5, 6, 7)\n",
    "subsequence = (3, 4, 5)\n",
    "\n",
    "if is_subsequence(subsequence, sequence):\n",
    "    print('Subsequence found in the sequence')\n",
    "else:\n",
    "    print('Subsequence not found in the sequence')"
   ]
  },
  {
   "cell_type": "markdown",
   "id": "cf4dbfb9-1285-48dd-b29c-43e5134d00a5",
   "metadata": {
    "tags": []
   },
   "source": [
    "### 50. Create a tuple of alternating 1s and 0s of length `n`."
   ]
  },
  {
   "cell_type": "code",
   "execution_count": 65,
   "id": "aa3dbd32-8f94-4312-a72b-fe2c90083839",
   "metadata": {},
   "outputs": [
    {
     "name": "stdin",
     "output_type": "stream",
     "text": [
      "Enter a integer number: 5\n"
     ]
    },
    {
     "name": "stdout",
     "output_type": "stream",
     "text": [
      "Alternateing 1s and 0s of length n is: (1, 0, 1, 0, 1)\n"
     ]
    }
   ],
   "source": [
    "n=int(input('Enter a integer number:'))\n",
    "alternate_tuple=tuple(1 if i%2==0 else 0 for i in range(n))\n",
    "print('Alternateing 1s and 0s of length n is:', alternate_tuple)"
   ]
  },
  {
   "cell_type": "markdown",
   "id": "4c1ed003-750f-4863-8b10-2e7ee7ce5f94",
   "metadata": {},
   "source": [
    "## Set Based Practice Problem"
   ]
  },
  {
   "cell_type": "markdown",
   "id": "166c4264-7f3f-4e64-abfd-d15409090ad9",
   "metadata": {},
   "source": [
    "### 1. Create a set with integers from 1 to 5."
   ]
  },
  {
   "cell_type": "code",
   "execution_count": 1,
   "id": "bfcafcfb-3dd4-4467-9e19-ad62c80f1496",
   "metadata": {},
   "outputs": [
    {
     "name": "stdout",
     "output_type": "stream",
     "text": [
      "{1, 2, 3, 4, 5}\n"
     ]
    },
    {
     "data": {
      "text/plain": [
       "set"
      ]
     },
     "execution_count": 1,
     "metadata": {},
     "output_type": "execute_result"
    }
   ],
   "source": [
    "s={1,2,3,4,5}\n",
    "print(s)\n",
    "type(s)"
   ]
  },
  {
   "cell_type": "markdown",
   "id": "8ec707a1-f94a-4bb3-8d02-4e435efe3b90",
   "metadata": {},
   "source": [
    "### 2. Add an element to a set."
   ]
  },
  {
   "cell_type": "code",
   "execution_count": 8,
   "id": "50847b2d-ef74-4d44-ab24-bdfc8f586936",
   "metadata": {},
   "outputs": [
    {
     "name": "stdout",
     "output_type": "stream",
     "text": [
      "Set with a new element is: {1, 2, 3, 4, 5, 6}\n"
     ]
    }
   ],
   "source": [
    "s={1,2,3,4,5}\n",
    "t=list(s)\n",
    "t.append(6)\n",
    "s=set(t)\n",
    "print('Set with a new element is:', s)"
   ]
  },
  {
   "cell_type": "markdown",
   "id": "c1f251db-fb7f-46d5-898f-065ed758c99d",
   "metadata": {},
   "source": [
    "### 3. Remove an element from a set."
   ]
  },
  {
   "cell_type": "code",
   "execution_count": 12,
   "id": "d21aa0e4-b5f3-4ed4-b7e2-c2bea39f3a98",
   "metadata": {},
   "outputs": [
    {
     "name": "stdout",
     "output_type": "stream",
     "text": [
      "Set with specific element 4 removed is: {1, 2, 3, 5}\n"
     ]
    }
   ],
   "source": [
    "s={1,2,3,4,5}\n",
    "s.discard(4)\n",
    "print('Set with specific element 4 removed is:', s)"
   ]
  },
  {
   "cell_type": "markdown",
   "id": "2650868d-df69-41bd-b18e-7906eff4f699",
   "metadata": {},
   "source": [
    "### 4. Check if an element exists in a set."
   ]
  },
  {
   "cell_type": "code",
   "execution_count": 17,
   "id": "5abc8680-c690-4457-9be3-312ff1b257bd",
   "metadata": {},
   "outputs": [
    {
     "name": "stdout",
     "output_type": "stream",
     "text": [
      "Element 2 is present in set s\n"
     ]
    }
   ],
   "source": [
    "s={1,2,3,4,5}\n",
    "if 2 in s:\n",
    "    print('Element 2 is present in set s')\n",
    "else:\n",
    "    print('Element 2 is not present in set s')"
   ]
  },
  {
   "cell_type": "markdown",
   "id": "d3cdd659-ee42-4d3e-896d-faf102ca07fe",
   "metadata": {},
   "source": [
    "### 5. Find the length of a set without using the `len()` function. "
   ]
  },
  {
   "cell_type": "code",
   "execution_count": 24,
   "id": "aa37998b-7fa6-4014-8dc9-4f3ba5634668",
   "metadata": {},
   "outputs": [
    {
     "name": "stdout",
     "output_type": "stream",
     "text": [
      "Set s 5 elements in it.\n"
     ]
    }
   ],
   "source": [
    "s={1,2,3,4,5}\n",
    "count=0\n",
    "for item in s:\n",
    "    count+=1\n",
    "print(f'Set s {count} elements in it.')"
   ]
  },
  {
   "cell_type": "markdown",
   "id": "09d5addc-bdd7-4ae5-a608-eec64b456b6a",
   "metadata": {},
   "source": [
    "### 6. Clear all elements from a set."
   ]
  },
  {
   "cell_type": "code",
   "execution_count": 2,
   "id": "35ebf9f7-501b-4370-8f2e-fa44687550ff",
   "metadata": {},
   "outputs": [
    {
     "name": "stdout",
     "output_type": "stream",
     "text": [
      "Set s after clearing all elements is: set()\n"
     ]
    }
   ],
   "source": [
    "s={1,2,3,4,5}\n",
    "s.clear()\n",
    "print('Set s after clearing all elements is:', s)"
   ]
  },
  {
   "cell_type": "markdown",
   "id": "7bf29216-40d7-4909-94bf-6f00bfa13527",
   "metadata": {},
   "source": [
    "### 7. Create a set of even numbers from 1 to 10."
   ]
  },
  {
   "cell_type": "code",
   "execution_count": 21,
   "id": "ea571ac4-850e-416d-9e96-9cf0731d5858",
   "metadata": {},
   "outputs": [
    {
     "name": "stdout",
     "output_type": "stream",
     "text": [
      "Set with even numbers from 1 to 10 are: {2, 4, 6, 8, 10}\n"
     ]
    }
   ],
   "source": [
    "s=set()\n",
    "for i in range (1,11):\n",
    "    if i%2==0:\n",
    "        s.add(i)\n",
    "print('Set with even numbers from 1 to 10 are:',s)"
   ]
  },
  {
   "cell_type": "markdown",
   "id": "69d2adb6-19b8-4032-affe-b5537850cf38",
   "metadata": {},
   "source": [
    "### 8. Create a set of odd numbers from 1 to 10."
   ]
  },
  {
   "cell_type": "code",
   "execution_count": 23,
   "id": "91abd71c-16c7-4248-a82e-a7ee26024862",
   "metadata": {},
   "outputs": [
    {
     "name": "stdout",
     "output_type": "stream",
     "text": [
      "Set with odd numbers from 1 to 10 are: {1, 3, 5, 7, 9}\n"
     ]
    }
   ],
   "source": [
    "s=set()\n",
    "for i in range(1,11):\n",
    "    if i%2!=0:\n",
    "        s.add(i)\n",
    "print('Set with odd numbers from 1 to 10 are:',s)"
   ]
  },
  {
   "cell_type": "markdown",
   "id": "cd8613da-f842-4f75-b06b-97897b7b2b65",
   "metadata": {},
   "source": [
    "### 9. Find the union of two sets."
   ]
  },
  {
   "cell_type": "code",
   "execution_count": 28,
   "id": "59b3e5c2-e8c7-4d1d-bbd6-0f5b42c153ab",
   "metadata": {},
   "outputs": [
    {
     "name": "stdout",
     "output_type": "stream",
     "text": [
      "Union of sets s&t is: {1, 2, 3, 4, 5}\n"
     ]
    }
   ],
   "source": [
    "s={1,2,3,4,5}\n",
    "t={2,3,5}\n",
    "u=s|t\n",
    "print('Union of sets s&t is:', u)"
   ]
  },
  {
   "cell_type": "markdown",
   "id": "0c075f98-addc-48d4-b524-8030260fbf31",
   "metadata": {},
   "source": [
    "### 10. Find the intersection of two sets."
   ]
  },
  {
   "cell_type": "code",
   "execution_count": 29,
   "id": "0c376cbb-a9c4-42bd-aafd-69ba0f438eab",
   "metadata": {},
   "outputs": [
    {
     "name": "stdout",
     "output_type": "stream",
     "text": [
      "Intersection of sets s&t is: {2, 3, 5}\n"
     ]
    }
   ],
   "source": [
    "s={1,2,3,4,5}\n",
    "t={2,3,5}\n",
    "u=s&t\n",
    "print('Intersection of sets s&t is:', u)"
   ]
  },
  {
   "cell_type": "markdown",
   "id": "2df853dc-6909-4949-917b-012456383538",
   "metadata": {},
   "source": [
    "### 11. Find the difference between two sets."
   ]
  },
  {
   "cell_type": "code",
   "execution_count": 32,
   "id": "3ab5423d-30b2-4f7c-baee-1545c000b3ee",
   "metadata": {},
   "outputs": [
    {
     "name": "stdout",
     "output_type": "stream",
     "text": [
      "Intersection of sets s&t is: {1, 4}\n"
     ]
    }
   ],
   "source": [
    "s={1,2,3,4,5}\n",
    "t={2,3,5}\n",
    "u=s-t\n",
    "print('Intersection of sets s&t is:', u)"
   ]
  },
  {
   "cell_type": "markdown",
   "id": "69f37ca2-9e34-44ea-9894-3089c5f024cd",
   "metadata": {},
   "source": [
    "### 12. Check if a set is a subset of another set."
   ]
  },
  {
   "cell_type": "code",
   "execution_count": 42,
   "id": "2a9506dd-19ee-4f87-b3cf-4c199317ac94",
   "metadata": {},
   "outputs": [
    {
     "name": "stdout",
     "output_type": "stream",
     "text": [
      "set t is a subset of s\n",
      "set v is not a subset of u\n"
     ]
    }
   ],
   "source": [
    "s={1,2,3,4,5}\n",
    "t={2,3,5}\n",
    "if t.issubset(s):\n",
    "    print('set t is a subset of s')\n",
    "else:\n",
    "    print('set t is not a subset of s')\n",
    "    \n",
    "    \n",
    "u={1,2,3,4,5}\n",
    "v={6,7,8}\n",
    "if v.issubset(u):\n",
    "    print('set v is a subset of u')\n",
    "else:\n",
    "    print('set v is not a subset of u')  \n",
    "    "
   ]
  },
  {
   "cell_type": "markdown",
   "id": "4fddcb55-a8d1-4623-9879-e21d938ff2a2",
   "metadata": {},
   "source": [
    "### 13. Check if a set is a superset of another set."
   ]
  },
  {
   "cell_type": "code",
   "execution_count": 48,
   "id": "2d78ad56-84a2-4c1a-84a6-3e9868b126cf",
   "metadata": {},
   "outputs": [
    {
     "name": "stdout",
     "output_type": "stream",
     "text": [
      "set s is a superset of t\n",
      "set u is not a superset of v\n"
     ]
    }
   ],
   "source": [
    "s={1,2,3,4,5}\n",
    "t={2,3,5}\n",
    "if s.issuperset(t):\n",
    "    print('set s is a superset of t')\n",
    "else:\n",
    "    print('set s is not a superset of t')\n",
    "    \n",
    "    \n",
    "u={1,2,3,4,5}\n",
    "v={6,7,8}\n",
    "if u.issuperset(v):\n",
    "    print('set u is a superset of v')\n",
    "else:\n",
    "    print('set u is not a superset of v')"
   ]
  },
  {
   "cell_type": "markdown",
   "id": "c1fc96e8-3a80-41f9-9344-2b89e7a7553a",
   "metadata": {},
   "source": [
    "### 14. Create a set from a list."
   ]
  },
  {
   "cell_type": "code",
   "execution_count": 49,
   "id": "a52a0805-a335-4edb-a217-1e3e6fbbe67e",
   "metadata": {},
   "outputs": [
    {
     "name": "stdout",
     "output_type": "stream",
     "text": [
      "{True, 2, 4, 'vedanth', 9}\n"
     ]
    },
    {
     "data": {
      "text/plain": [
       "set"
      ]
     },
     "execution_count": 49,
     "metadata": {},
     "output_type": "execute_result"
    }
   ],
   "source": [
    "l=[2,4,'vedanth', True,9]\n",
    "s=set(l)\n",
    "print(s)\n",
    "type(s)"
   ]
  },
  {
   "cell_type": "markdown",
   "id": "17e7cb6b-0a0f-407d-a981-49403268ab18",
   "metadata": {},
   "source": [
    "### 15. Convert a set to a list."
   ]
  },
  {
   "cell_type": "code",
   "execution_count": 50,
   "id": "973d8439-49e6-42ff-9a7a-48f4a592628a",
   "metadata": {},
   "outputs": [
    {
     "name": "stdout",
     "output_type": "stream",
     "text": [
      "[True, 2, 4, 'vedanth', 9]\n"
     ]
    },
    {
     "data": {
      "text/plain": [
       "list"
      ]
     },
     "execution_count": 50,
     "metadata": {},
     "output_type": "execute_result"
    }
   ],
   "source": [
    "s={2,4,'vedanth', True,9}\n",
    "t=list(s)\n",
    "print(t)\n",
    "type(t)"
   ]
  },
  {
   "cell_type": "markdown",
   "id": "d62cfbc3-ff9b-4868-813b-97619c203333",
   "metadata": {},
   "source": [
    "### 16. Remove a random element from a set."
   ]
  },
  {
   "cell_type": "code",
   "execution_count": 54,
   "id": "47dbf2ba-5636-43c9-b0b9-7ad16f5bd3ae",
   "metadata": {},
   "outputs": [
    {
     "name": "stdout",
     "output_type": "stream",
     "text": [
      "Set after removing a specific element is: {2, 4, 'vedanth', 9}\n"
     ]
    }
   ],
   "source": [
    "s={2,4,'vedanth', True,9}\n",
    "s.remove(True)\n",
    "print('Set after removing a specific element is:', s)"
   ]
  },
  {
   "cell_type": "markdown",
   "id": "a310dca0-5ced-4cfc-ad1d-2f185eb2327b",
   "metadata": {},
   "source": [
    "### 17. Pop an element from a set."
   ]
  },
  {
   "cell_type": "code",
   "execution_count": 66,
   "id": "5c1cac68-4c42-40ca-83b2-923bf226be92",
   "metadata": {},
   "outputs": [
    {
     "name": "stdout",
     "output_type": "stream",
     "text": [
      "Set after removing a specific element is: {2, 4, 'vedanth', 9}\n",
      "Removed element is: True\n"
     ]
    }
   ],
   "source": [
    "s={2,4,'vedanth', True,9}\n",
    "t=s.pop()\n",
    "print('Set after removing a specific element is:', s)\n",
    "print('Removed element is:', t)"
   ]
  },
  {
   "cell_type": "markdown",
   "id": "574b5d55-e55b-48b4-b1cf-11aa08731163",
   "metadata": {},
   "source": [
    "### 18. Check if two sets have no elements in common."
   ]
  },
  {
   "cell_type": "code",
   "execution_count": 83,
   "id": "3eb609c6-7747-4d3f-b41f-5af5669d2f24",
   "metadata": {},
   "outputs": [
    {
     "name": "stdout",
     "output_type": "stream",
     "text": [
      "The sets u & v do not have any elements in common\n"
     ]
    }
   ],
   "source": [
    "u={1,2,3,4,5}\n",
    "v={6,7,8}\n",
    "\n",
    "t=u&v\n",
    "if t:\n",
    "    print('The common elements in the sets u & v are:', t)\n",
    "else:\n",
    "    print('The sets u & v do not have any elements in common')"
   ]
  },
  {
   "cell_type": "markdown",
   "id": "55c04820-c85a-4845-a031-fec139e5b9c4",
   "metadata": {},
   "source": [
    "### 19. Find the symmetric difference between two sets."
   ]
  },
  {
   "cell_type": "code",
   "execution_count": 91,
   "id": "a551cdc2-d28e-494b-bed7-7e86d19b75e9",
   "metadata": {},
   "outputs": [
    {
     "name": "stdout",
     "output_type": "stream",
     "text": [
      "The symmetric difference between 2 sets are: {1, 4, 5, 7, 8}\n"
     ]
    }
   ],
   "source": [
    "u={1,2,3,4,5}\n",
    "v={2,3,7,8}\n",
    "\n",
    "t=u^v\n",
    "if t:\n",
    "    print('The symmetric difference between 2 sets are:', t)\n",
    "else:\n",
    "    print('The sets u & v do not have symmetroic difference')"
   ]
  },
  {
   "cell_type": "markdown",
   "id": "aba067db-37ba-42fe-8e9f-f7d75a1d4eb2",
   "metadata": {},
   "source": [
    "### 20. Update a set with elements from another set."
   ]
  },
  {
   "cell_type": "code",
   "execution_count": 97,
   "id": "4f1928c5-6a84-44b2-999a-5a5c3f146234",
   "metadata": {},
   "outputs": [
    {
     "name": "stdout",
     "output_type": "stream",
     "text": [
      "The updated set is: {1, 2, 3, 4, 5, 7, 8}\n"
     ]
    }
   ],
   "source": [
    "u={1,2,3,4,5}\n",
    "v={2,3,7,8}\n",
    "t=u|v\n",
    "print('The updated set is:', t)"
   ]
  },
  {
   "cell_type": "markdown",
   "id": "926e8bb7-6819-4501-aa3b-129de413b019",
   "metadata": {},
   "source": [
    "### 21. Create a set of the first 5 prime numbers."
   ]
  },
  {
   "cell_type": "code",
   "execution_count": 110,
   "id": "66ed815c-74eb-46c7-b731-d51c589be230",
   "metadata": {},
   "outputs": [
    {
     "name": "stdout",
     "output_type": "stream",
     "text": [
      "First 5 prime numbers in a set is: {3, 5, 7, 9, 11}\n"
     ]
    }
   ],
   "source": [
    "t=set()\n",
    "\n",
    "for num in range (2,12):\n",
    "    prime=True\n",
    "    for i in range (2, num):\n",
    "        if (num%i)==0:\n",
    "            prime=False\n",
    "            break\n",
    "            \n",
    "        if prime:\n",
    "            t.add(num)\n",
    "print('First 5 prime numbers in a set is:', t) "
   ]
  },
  {
   "cell_type": "markdown",
   "id": "d8c4dfa6-a72d-45b2-87b4-f08c5fb551af",
   "metadata": {},
   "source": [
    "### 22. Check if two sets are identical."
   ]
  },
  {
   "cell_type": "code",
   "execution_count": 113,
   "id": "23cc44ae-5c16-43cd-b28f-179897732023",
   "metadata": {},
   "outputs": [
    {
     "name": "stdout",
     "output_type": "stream",
     "text": [
      "sets u & v are not identical\n"
     ]
    }
   ],
   "source": [
    "u={1,2,3,4,5}\n",
    "v={2,3,7,8}\n",
    "\n",
    "if u==v:\n",
    "    print('sets u & v are identical')\n",
    "else:\n",
    "        print('sets u & v are not identical')"
   ]
  },
  {
   "cell_type": "markdown",
   "id": "311b9e02-c33a-47be-8052-08abdf57e5e3",
   "metadata": {},
   "source": [
    "### 23. Create a frozen set."
   ]
  },
  {
   "cell_type": "code",
   "execution_count": 126,
   "id": "2f69fd60-4c81-4e3b-8991-8c500e10291a",
   "metadata": {},
   "outputs": [
    {
     "name": "stdout",
     "output_type": "stream",
     "text": [
      "Frozen set is: frozenset({1, 2, 3, 4, 5})\n"
     ]
    },
    {
     "ename": "AttributeError",
     "evalue": "'frozenset' object has no attribute 'remove'",
     "output_type": "error",
     "traceback": [
      "\u001b[0;31m---------------------------------------------------------------------------\u001b[0m",
      "\u001b[0;31mAttributeError\u001b[0m                            Traceback (most recent call last)",
      "Cell \u001b[0;32mIn[126], line 4\u001b[0m\n\u001b[1;32m      2\u001b[0m y\u001b[38;5;241m=\u001b[39m\u001b[38;5;28mfrozenset\u001b[39m(u)\n\u001b[1;32m      3\u001b[0m \u001b[38;5;28mprint\u001b[39m(\u001b[38;5;124m'\u001b[39m\u001b[38;5;124mFrozen set is:\u001b[39m\u001b[38;5;124m'\u001b[39m, y)\n\u001b[0;32m----> 4\u001b[0m \u001b[43my\u001b[49m\u001b[38;5;241;43m.\u001b[39;49m\u001b[43mremove\u001b[49m(\u001b[38;5;241m3\u001b[39m)\n\u001b[1;32m      5\u001b[0m \u001b[38;5;28mprint\u001b[39m(y)\n\u001b[1;32m      6\u001b[0m \u001b[38;5;28mtype\u001b[39m(y)\n",
      "\u001b[0;31mAttributeError\u001b[0m: 'frozenset' object has no attribute 'remove'"
     ]
    }
   ],
   "source": [
    "z={1,2,3,4,5}\n",
    "y=frozenset(u)\n",
    "print('Frozen set is:', y)\n",
    "y.remove(3)\n",
    "print(y)"
   ]
  },
  {
   "cell_type": "code",
   "execution_count": 124,
   "id": "e1183ec4-0be0-466c-bf08-99fb109c3de5",
   "metadata": {},
   "outputs": [
    {
     "data": {
      "text/plain": [
       "frozenset"
      ]
     },
     "execution_count": 124,
     "metadata": {},
     "output_type": "execute_result"
    }
   ],
   "source": [
    "type(y)"
   ]
  },
  {
   "cell_type": "markdown",
   "id": "6ec8a1d7-adc4-4cbe-b79e-e825fdf93b99",
   "metadata": {},
   "source": [
    "### 24. Check if a set is disjoint with another set."
   ]
  },
  {
   "cell_type": "code",
   "execution_count": 135,
   "id": "d312a282-70bb-4435-aff9-facbf5fe43dd",
   "metadata": {},
   "outputs": [
    {
     "name": "stdout",
     "output_type": "stream",
     "text": [
      "The sets are not disjoint\n"
     ]
    }
   ],
   "source": [
    "u={1,2,3,4,5}\n",
    "v={2,3,7,8}\n",
    "\n",
    "if u.isdisjoint(v):\n",
    "    print('The sets are disjoint')\n",
    "else:\n",
    "    print('The sets are not disjoint')"
   ]
  },
  {
   "cell_type": "markdown",
   "id": "da957c47-6f8d-4a28-9045-a0e2275630f3",
   "metadata": {},
   "source": [
    "### 25. Create a set of squares of numbers from 1 to 5."
   ]
  },
  {
   "cell_type": "code",
   "execution_count": 149,
   "id": "a2d51df1-68e7-4248-a908-7d9555dafae7",
   "metadata": {},
   "outputs": [
    {
     "name": "stdout",
     "output_type": "stream",
     "text": [
      "Set of squared from 1 to 5 are: {1, 4, 9, 16, 25}\n"
     ]
    }
   ],
   "source": [
    "s=set()\n",
    "for i in range (1,6):\n",
    "    Squared=i**2\n",
    "    s.add(Squared)\n",
    "print('Set of squared from 1 to 5 are:', s)  \n"
   ]
  },
  {
   "cell_type": "markdown",
   "id": "29871e79-ecce-4887-8563-7b41dd2fd2f8",
   "metadata": {},
   "source": [
    "### 26. Filter out all even numbers from a set."
   ]
  },
  {
   "cell_type": "code",
   "execution_count": 156,
   "id": "d35ef2fe-0913-4687-a5da-561c90c2d524",
   "metadata": {},
   "outputs": [
    {
     "name": "stdout",
     "output_type": "stream",
     "text": [
      "Even numbers in set u are: {8, 2, 4}\n"
     ]
    }
   ],
   "source": [
    "u={1,2,3,4,5,8,9,4,5,3,}\n",
    "\n",
    "s=set()\n",
    "for i in u:\n",
    "    if i%2==0:\n",
    "        s.add(i)\n",
    "print('Even numbers in set u are:', s)"
   ]
  },
  {
   "cell_type": "markdown",
   "id": "c101f8d3-b430-44ac-85bd-5b74cb70f4c4",
   "metadata": {},
   "source": [
    "### 27. Multiply all elements in a set by 2."
   ]
  },
  {
   "cell_type": "code",
   "execution_count": 163,
   "id": "93737e4c-8fdd-4153-b1c2-f4c460fb69ed",
   "metadata": {},
   "outputs": [
    {
     "name": "stdout",
     "output_type": "stream",
     "text": [
      "Set with all elements multiplied by 2 is: {2, 4, 6, 8, 10, 16, 18}\n"
     ]
    }
   ],
   "source": [
    "u={1,2,3,4,5,8,9,4,5,3,}\n",
    "\n",
    "s=set()\n",
    "for i in u:\n",
    "    j=i*2\n",
    "    s.add(j)\n",
    "print('Set with all elements multiplied by 2 is:', s)"
   ]
  },
  {
   "cell_type": "markdown",
   "id": "2c545aa9-52de-4fb0-b1f6-5efe7d95f1a1",
   "metadata": {},
   "source": [
    "### 28. Create a set of random numbers."
   ]
  },
  {
   "cell_type": "code",
   "execution_count": 166,
   "id": "95866251-2aed-48e7-bbd3-d61146298314",
   "metadata": {},
   "outputs": [
    {
     "name": "stdout",
     "output_type": "stream",
     "text": [
      "Set with random numbers is: {2, 3, 5154, 5, 1445, 34, 114, 23, 25}\n"
     ]
    },
    {
     "data": {
      "text/plain": [
       "set"
      ]
     },
     "execution_count": 166,
     "metadata": {},
     "output_type": "execute_result"
    }
   ],
   "source": [
    "s={2,3,5,23,5,25,114,5154,1445,34}\n",
    "print('Set with random numbers is:', s)\n",
    "type(s)"
   ]
  },
  {
   "cell_type": "markdown",
   "id": "d6987570-804c-457d-993c-b059dd6f7584",
   "metadata": {},
   "source": [
    "### 29. Check if a set is empty."
   ]
  },
  {
   "cell_type": "code",
   "execution_count": 170,
   "id": "4ffce4ce-90fa-49a7-b12a-c358c5ca08e0",
   "metadata": {},
   "outputs": [
    {
     "name": "stdout",
     "output_type": "stream",
     "text": [
      "Set is not empty, it have elements: {2, 3, 5154, 5, 1445, 34, 114, 23, 25}\n"
     ]
    }
   ],
   "source": [
    "s={2,3,5,23,5,25,114,5154,1445,34}\n",
    "if s=={}:\n",
    "    print('Set is empty')\n",
    "else:\n",
    "    print('Set is not empty, it have elements:', s)"
   ]
  },
  {
   "cell_type": "markdown",
   "id": "5e6901cf-ca24-4feb-9591-eac50e508f0a",
   "metadata": {},
   "source": [
    "### 30. Create a nested set (hint: use frozenset)."
   ]
  },
  {
   "cell_type": "code",
   "execution_count": 172,
   "id": "98b07c9e-7c23-49bb-8389-020bf9c8e8ed",
   "metadata": {},
   "outputs": [
    {
     "name": "stdout",
     "output_type": "stream",
     "text": [
      "Nested set is: {frozenset({1, 2, 3, 4, 5}), 1, 'Vedanth', 7}\n"
     ]
    }
   ],
   "source": [
    "s={1,7,'Vedanth', y}\n",
    "print('Nested set is:', s)"
   ]
  },
  {
   "cell_type": "markdown",
   "id": "36fcc4ab-24e6-4b2e-892d-bedefcbcfd37",
   "metadata": {},
   "source": [
    "### 31. Remove an element from a set using the discard method."
   ]
  },
  {
   "cell_type": "code",
   "execution_count": 176,
   "id": "ce731a7b-510d-442b-9fe1-a68a5f970649",
   "metadata": {},
   "outputs": [
    {
     "name": "stdout",
     "output_type": "stream",
     "text": [
      "Set after removing an frozen set as element is: {1, 'Vedanth', 7}\n"
     ]
    }
   ],
   "source": [
    "s={1,7,'Vedanth', y}\n",
    "s.discard(y)\n",
    "print('Set after removing an frozen set as element is:', s)"
   ]
  },
  {
   "cell_type": "markdown",
   "id": "1f05897d-7b40-4dd6-84d5-14eb74fa8042",
   "metadata": {},
   "source": [
    "### 32. Compare two sets."
   ]
  },
  {
   "cell_type": "code",
   "execution_count": 177,
   "id": "69d35949-871e-483d-865f-b1ec69ceb283",
   "metadata": {},
   "outputs": [
    {
     "name": "stdout",
     "output_type": "stream",
     "text": [
      "Sets s and t are not equal\n",
      "After comparing both the sets, the common elements are: (2, 4)\n"
     ]
    }
   ],
   "source": [
    "s={1,2,3,4,5}\n",
    "t={2,4,6,8}\n",
    "\n",
    "if s==t:\n",
    "    print('Sets s and t are equal')\n",
    "else:\n",
    "    print('Sets s and t are not equal')\n",
    "    \n",
    "    \n",
    "u=()\n",
    "for item in s:\n",
    "    if item in t:\n",
    "        u+=(item,)\n",
    "print('After comparing both the sets, the common elements are:', u)"
   ]
  },
  {
   "cell_type": "markdown",
   "id": "ed178e37-03de-4cc9-8228-768a71eb4835",
   "metadata": {},
   "source": [
    "### 33. Create a set from a string."
   ]
  },
  {
   "cell_type": "code",
   "execution_count": 179,
   "id": "be8ceb09-e917-4ac7-867f-6bf7b230c398",
   "metadata": {},
   "outputs": [
    {
     "name": "stdout",
     "output_type": "stream",
     "text": [
      "Set created from String is: {'a', 'h', 'n', 'e', 't', 'V', 'd'}\n"
     ]
    }
   ],
   "source": [
    "h='Vedanth'\n",
    "i=set(h)\n",
    "print('Set created from String is:', i)"
   ]
  },
  {
   "cell_type": "markdown",
   "id": "45db8bc8-e600-4fa5-8b29-bd10f332e0a5",
   "metadata": {},
   "source": [
    "### 34. Convert a set of strings to a set of integers."
   ]
  },
  {
   "cell_type": "code",
   "execution_count": 194,
   "id": "28ee181b-d15b-4b65-b7ef-898c0c178212",
   "metadata": {},
   "outputs": [
    {
     "name": "stdout",
     "output_type": "stream",
     "text": [
      "Set of integers created from String is: {94531, 2316}\n"
     ]
    }
   ],
   "source": [
    "h={'2316', '94531'}\n",
    "i=set(int(char) for char in h)\n",
    "print('Set of integers created from String is:', i)"
   ]
  },
  {
   "cell_type": "markdown",
   "id": "6f2197a8-19df-4a88-9393-75e5bd5f0d8d",
   "metadata": {},
   "source": [
    "### 35. Convert a set of integers to a set of strings."
   ]
  },
  {
   "cell_type": "code",
   "execution_count": 193,
   "id": "40dab59b-2fc2-4c8e-8f13-b7709d472d66",
   "metadata": {},
   "outputs": [
    {
     "name": "stdout",
     "output_type": "stream",
     "text": [
      "Set of strings created from integers is: {'4', '2', '6', '1', '9', '5', '3'}\n"
     ]
    }
   ],
   "source": [
    "h={1, 2, 3, 4, 5, 6, 9}\n",
    "i=set(str(char) for char in h)\n",
    "print('Set of strings created from integers is:', i)"
   ]
  },
  {
   "cell_type": "markdown",
   "id": "61ff60e3-92cb-4cc0-86ed-ac18b9b495fb",
   "metadata": {},
   "source": [
    "### 36. Create a set from a tuple."
   ]
  },
  {
   "cell_type": "code",
   "execution_count": 199,
   "id": "1d707658-bc5e-468a-9a50-d2b4d9c38c19",
   "metadata": {},
   "outputs": [
    {
     "name": "stdout",
     "output_type": "stream",
     "text": [
      "Set converted from a tuple is: {1, 4, 5, 8, 9, 42, 12, 78, 15, 52, 23, 89, 93}\n"
     ]
    },
    {
     "data": {
      "text/plain": [
       "set"
      ]
     },
     "execution_count": 199,
     "metadata": {},
     "output_type": "execute_result"
    }
   ],
   "source": [
    "t=(1,4,1,8,5,23,42,15,52,12,78,89,93,9)\n",
    "u=set(t)\n",
    "print('Set converted from a tuple is:', u)\n",
    "type (u)"
   ]
  },
  {
   "cell_type": "markdown",
   "id": "adcbdd78-1f95-4cbf-8e64-eefaad99989a",
   "metadata": {},
   "source": [
    "### 37. Convert a set to a tuple."
   ]
  },
  {
   "cell_type": "code",
   "execution_count": 201,
   "id": "dfc6f771-0957-4de5-93eb-af4f5e685d09",
   "metadata": {},
   "outputs": [
    {
     "name": "stdout",
     "output_type": "stream",
     "text": [
      "Tuple converted from a set is: (1, 4, 5, 8, 9, 42, 12, 78, 15, 52, 23, 89, 93)\n"
     ]
    },
    {
     "data": {
      "text/plain": [
       "tuple"
      ]
     },
     "execution_count": 201,
     "metadata": {},
     "output_type": "execute_result"
    }
   ],
   "source": [
    "t={1,4,1,8,5,23,42,15,52,12,78,89,93,9}\n",
    "u=tuple(t)\n",
    "print('Tuple converted from a set is:', u)\n",
    "type (u)"
   ]
  },
  {
   "cell_type": "markdown",
   "id": "f0acf15d-7be0-4413-bbe4-ce6c37d3699e",
   "metadata": {},
   "source": [
    "### 38. Find the maximum value in a set."
   ]
  },
  {
   "cell_type": "code",
   "execution_count": 203,
   "id": "b47b3bdc-bcea-4d22-b6eb-ea1764c63b7d",
   "metadata": {},
   "outputs": [
    {
     "name": "stdout",
     "output_type": "stream",
     "text": [
      "Maximum value in the given set is: 93\n"
     ]
    }
   ],
   "source": [
    "t={1,4,1,8,5,23,42,15,52,12,78,89,93,9}\n",
    "u=max(t)\n",
    "print('Maximum value in the given set is:', u)"
   ]
  },
  {
   "cell_type": "markdown",
   "id": "19f3ca21-7265-461f-99d9-f7c7412952b1",
   "metadata": {},
   "source": [
    "### 39. Find the minimum value in a set."
   ]
  },
  {
   "cell_type": "code",
   "execution_count": 205,
   "id": "04da9485-60da-4c46-a61a-68b8d42322c9",
   "metadata": {},
   "outputs": [
    {
     "name": "stdout",
     "output_type": "stream",
     "text": [
      "Minimum value in the given set is: 1\n"
     ]
    }
   ],
   "source": [
    "t={1,4,1,8,5,23,42,15,52,12,78,89,93,9}\n",
    "u=min(t)\n",
    "print('Minimum value in the given set is:', u)"
   ]
  },
  {
   "cell_type": "markdown",
   "id": "0c1ee7a7-57c3-4028-9338-e8029c105597",
   "metadata": {},
   "source": [
    "### 40. Create a set from user input."
   ]
  },
  {
   "cell_type": "code",
   "execution_count": 210,
   "id": "0f19d7e7-004e-4afc-b3af-9b3182c0b76d",
   "metadata": {},
   "outputs": [
    {
     "name": "stdin",
     "output_type": "stream",
     "text": [
      "enter the value:  vedanth ranganath Toshith\n"
     ]
    },
    {
     "name": "stdout",
     "output_type": "stream",
     "text": [
      "Set created by the input from user is: {'Toshith', 'ranganath', 'vedanth'}\n"
     ]
    }
   ],
   "source": [
    "s=input('enter the value: ')\n",
    "t=s.split()\n",
    "u=set(t)\n",
    "print('Set created by the input from user is:', u)\n"
   ]
  },
  {
   "cell_type": "markdown",
   "id": "4b276a06-03a1-4676-aaf4-bbbe2116e182",
   "metadata": {},
   "source": [
    "### 41. Check if the intersection of two sets is empty."
   ]
  },
  {
   "cell_type": "code",
   "execution_count": 211,
   "id": "1eba8f27-2a72-4e34-8a14-2c30ccf4af98",
   "metadata": {},
   "outputs": [
    {
     "name": "stdout",
     "output_type": "stream",
     "text": [
      "Intersection of sets s & t is not a empty set\n"
     ]
    }
   ],
   "source": [
    "s={1,2,3,4,5}\n",
    "t={2,3,5}\n",
    "u=s&t\n",
    "if u=={}:\n",
    "    print('Intersection of sets s & t is a empty set')\n",
    "else:\n",
    "    print('Intersection of sets s & t is not a empty set')"
   ]
  },
  {
   "cell_type": "markdown",
   "id": "4824a527-e13d-442a-9b86-0559f9a22b63",
   "metadata": {},
   "source": [
    "### 42. Create a set of the first 5 Fibonacci numbers."
   ]
  },
  {
   "cell_type": "code",
   "execution_count": 13,
   "id": "f2abde39-b1b2-4aa4-857b-28db5866afc0",
   "metadata": {},
   "outputs": [
    {
     "name": "stdout",
     "output_type": "stream",
     "text": [
      " Set of first 5 fibonacci numbers is: {0, 1, 2, 3, 5}\n"
     ]
    }
   ],
   "source": [
    "s=[0,1]\n",
    "count=6\n",
    "\n",
    "while len(s)<count:\n",
    "    next_number=s[-1]+s[-2]\n",
    "    s.append(next_number)\n",
    "print(f' Set of first 5 fibonacci numbers is:', set(s))"
   ]
  },
  {
   "cell_type": "markdown",
   "id": "8a67b1db-9e13-40dc-92b5-ac9bb9a96a6f",
   "metadata": {},
   "source": [
    "### 43. Remove duplicates from a list using sets."
   ]
  },
  {
   "cell_type": "code",
   "execution_count": 19,
   "id": "49b04f30-4a40-4ac1-b024-a626372240c5",
   "metadata": {},
   "outputs": [
    {
     "name": "stdout",
     "output_type": "stream",
     "text": [
      "Set after removing duplicates from list l: {2, 3, 4, 5, 6, 8, 9, 14, 23}\n"
     ]
    }
   ],
   "source": [
    "l=[2,4,23,2,14,6,9,3,8,5,2,6,14]\n",
    "l1=l[:5]\n",
    "l2=l[5:]\n",
    "\n",
    "s=set(l1)\n",
    "t=set(l2)\n",
    "\n",
    "u=s|t\n",
    "\n",
    "print('Set after removing duplicates from list l:', u)"
   ]
  },
  {
   "cell_type": "markdown",
   "id": "a88b6908-2c1e-43e0-b4e7-a919cf61c853",
   "metadata": {},
   "source": [
    "### 44. Check if two sets have the same elements, regardless of their count."
   ]
  },
  {
   "cell_type": "code",
   "execution_count": 22,
   "id": "e85be1e2-d842-4538-848e-e24a1a922958",
   "metadata": {},
   "outputs": [
    {
     "name": "stdout",
     "output_type": "stream",
     "text": [
      "There are common elements in the given sets\n",
      "The common elements in sets s1 & s2 are: {1, 2, 3}\n"
     ]
    }
   ],
   "source": [
    "s1={2,4,3,1,7,9,0}\n",
    "s2={3,2,5,6,1,5,8}\n",
    "\n",
    "if s1!=s2:\n",
    "    print('There are common elements in the given sets')\n",
    "else:\n",
    "    print('There are no common elements in the given sets')\n",
    "s=s1&s2\n",
    "print('The common elements in sets s1 & s2 are:', s)"
   ]
  },
  {
   "cell_type": "markdown",
   "id": "1f56f202-1672-4922-9c54-ba8b7a2de199",
   "metadata": {},
   "source": [
    "### 45. Create a set of the first `n` powers of 2."
   ]
  },
  {
   "cell_type": "code",
   "execution_count": 37,
   "id": "ff6008ee-9f79-4d7a-83db-3115213644d7",
   "metadata": {},
   "outputs": [
    {
     "name": "stdout",
     "output_type": "stream",
     "text": [
      "Set of first 6 powers of 2 is: {0, 1, 4, 9, 16, 25}\n"
     ]
    }
   ],
   "source": [
    "def n_powered(n):\n",
    "    count=n\n",
    "    s=set()\n",
    "\n",
    "    for i in range (count):\n",
    "        s.add(i**2)\n",
    "    return s\n",
    "    \n",
    "n=6\n",
    "k=n_powered(n)\n",
    "print(f'Set of first {n} powers of 2 is:', k)    \n",
    "\n",
    "    "
   ]
  },
  {
   "cell_type": "markdown",
   "id": "721a0839-d98c-440a-8f22-2696c6c56bb4",
   "metadata": {},
   "source": [
    "### 46. Find the common elements between a set and a list."
   ]
  },
  {
   "cell_type": "code",
   "execution_count": 40,
   "id": "4394284b-d0b6-461e-8a48-37a2c646e0b4",
   "metadata": {},
   "outputs": [
    {
     "name": "stdout",
     "output_type": "stream",
     "text": [
      "Common elements from the set h and list l are: {8, 4, 5}\n"
     ]
    }
   ],
   "source": [
    "h={46,32,4,5,1,4,7,8}\n",
    "l=[2,4,23,2,14,6,9,3,8,5,2,6,14]\n",
    "\n",
    "m=set(l)\n",
    "n=h&m\n",
    "\n",
    "print('Common elements from the set h and list l are:', n)"
   ]
  },
  {
   "cell_type": "markdown",
   "id": "d71e6ba4-9975-4567-9fc3-b85ecaf466cb",
   "metadata": {},
   "source": [
    "### 47. Create a set of the first `n` triangular numbers."
   ]
  },
  {
   "cell_type": "code",
   "execution_count": 41,
   "id": "04422b9a-bfef-4ee2-8f27-84eed026dddb",
   "metadata": {},
   "outputs": [
    {
     "name": "stdin",
     "output_type": "stream",
     "text": [
      "enter a integer value for n:  4\n"
     ]
    },
    {
     "name": "stdout",
     "output_type": "stream",
     "text": [
      "The first 4 traingular numbers are: {1, 10, 3, 6}\n"
     ]
    }
   ],
   "source": [
    "def Traingular(n):\n",
    "    triangles=[]\n",
    "    \n",
    "    for i in range(1,n+1):\n",
    "        triangles.append ((i*(i+1))//2)\n",
    "    return triangles\n",
    "\n",
    "m=int(input('enter a integer value for n: '))\n",
    "n=set(Traingular(m))\n",
    "\n",
    "print(f'The first {m} traingular numbers are:', n)"
   ]
  },
  {
   "cell_type": "markdown",
   "id": "f58a3c8e-da51-4754-81b9-767a6c4c31b5",
   "metadata": {},
   "source": [
    "### 48. Check if a set contains another set as a subset."
   ]
  },
  {
   "cell_type": "code",
   "execution_count": 49,
   "id": "3421301d-915c-4163-9ffe-53bcbae873de",
   "metadata": {},
   "outputs": [
    {
     "name": "stdout",
     "output_type": "stream",
     "text": [
      "Subsequence found in the sequence\n"
     ]
    }
   ],
   "source": [
    "def is_subse(subsequence, sequence):\n",
    "    l=list(subsequence)\n",
    "    m=list(sequence)\n",
    "    \n",
    "    (subsequence_count)=0\n",
    "    (sequence_count)=0\n",
    "\n",
    "    while subsequence_count < len(l) and sequence_count < len(m):\n",
    "        \n",
    "        if l[subsequence_count] == m[sequence_count]:\n",
    "            subsequence_count += 1\n",
    "        sequence_count += 1\n",
    "        \n",
    "    return subsequence_count == len(l)\n",
    "\n",
    "\n",
    "sequence = {1, 2, 3, 4, 5, 6, 7}\n",
    "subsequence = {3, 4, 5}\n",
    "\n",
    "if is_subse(subsequence, sequence):\n",
    "    print('Subsequence found in the sequence')\n",
    "else:\n",
    "    print('Subsequence not found in the sequence')"
   ]
  },
  {
   "cell_type": "markdown",
   "id": "6f56ea35-86a3-48ae-aa7c-7a08085730ea",
   "metadata": {},
   "source": [
    "### 49. Create a set of alternating 1s and 0s of length `n`."
   ]
  },
  {
   "cell_type": "code",
   "execution_count": 109,
   "id": "76bd3960-c265-4da9-8fca-9c2844b33c02",
   "metadata": {},
   "outputs": [
    {
     "name": "stdin",
     "output_type": "stream",
     "text": [
      "enter one integer value:  6\n"
     ]
    },
    {
     "name": "stdout",
     "output_type": "stream",
     "text": [
      "List with n number of alternate 1s and 0s is: [1, 0, 1, 0, 1, 0]\n",
      "Set with n number of alternate 1s and 0s is : {0, 1}\n"
     ]
    }
   ],
   "source": [
    "u=int(input('enter one integer value: '))\n",
    "s=list(1 if i%2==0 else 0 for i in range(u))\n",
    "t=set(s)\n",
    "print('List with n number of alternate 1s and 0s is:', s)\n",
    "print('Set with n number of alternate 1s and 0s is :', t) #Set removes duplicate values so we can only see one 0 and one 1 in set"
   ]
  },
  {
   "cell_type": "markdown",
   "id": "d9b71572-af3e-4716-aa93-4fd540ce5d4b",
   "metadata": {},
   "source": [
    "### 50. Merge multiple sets into one."
   ]
  },
  {
   "cell_type": "code",
   "execution_count": 108,
   "id": "58eb4b0d-4803-4150-92b6-5ca1d25a87a8",
   "metadata": {},
   "outputs": [
    {
     "name": "stdout",
     "output_type": "stream",
     "text": [
      "Merged set is: {'Dictionary', 2, 4, 5, 'list', 6, 'String', 'Tuple', '2316', 'set', '94531'}\n"
     ]
    }
   ],
   "source": [
    "h={'2316', '94531'}\n",
    "i={'String', 'Tuple', 'Dictionary', 'set', 'list'}\n",
    "j={2,4,5,2,6,6}\n",
    "\n",
    "k=h|i|j\n",
    "print('Merged set is:', k)\n"
   ]
  }
 ],
 "metadata": {
  "kernelspec": {
   "display_name": "Python 3 (ipykernel)",
   "language": "python",
   "name": "python3"
  },
  "language_info": {
   "codemirror_mode": {
    "name": "ipython",
    "version": 3
   },
   "file_extension": ".py",
   "mimetype": "text/x-python",
   "name": "python",
   "nbconvert_exporter": "python",
   "pygments_lexer": "ipython3",
   "version": "3.10.8"
  }
 },
 "nbformat": 4,
 "nbformat_minor": 5
}
