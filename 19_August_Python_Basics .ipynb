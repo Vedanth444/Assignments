{
 "cells": [
  {
   "cell_type": "markdown",
   "id": "84bc6b34-2824-4e26-842b-b165bbf7752b",
   "metadata": {},
   "source": [
    "##TOPIC: Python Basics Variable"
   ]
  },
  {
   "cell_type": "markdown",
   "id": "783ff2ed-ce7d-412a-bd45-09efc7593b86",
   "metadata": {},
   "source": [
    "1. Declare two variables, x and y, and assign them integer values. Swap the values of these variables without using any temporary variable.\n"
   ]
  },
  {
   "cell_type": "code",
   "execution_count": 32,
   "id": "4ae9ef0e-4fd2-4702-88a2-9c77c9be3b3d",
   "metadata": {},
   "outputs": [],
   "source": [
    "x=4"
   ]
  },
  {
   "cell_type": "code",
   "execution_count": 33,
   "id": "85642fd5-db48-4f50-9746-6761f36a8d53",
   "metadata": {},
   "outputs": [],
   "source": [
    "y=5"
   ]
  },
  {
   "cell_type": "code",
   "execution_count": 34,
   "id": "bf9c5175-efa8-48cb-91b4-c464936319b1",
   "metadata": {},
   "outputs": [],
   "source": [
    "x=x+y"
   ]
  },
  {
   "cell_type": "code",
   "execution_count": 35,
   "id": "af4513f7-80e8-4107-801c-81d82ec9657b",
   "metadata": {},
   "outputs": [],
   "source": [
    "y=x-y"
   ]
  },
  {
   "cell_type": "code",
   "execution_count": 36,
   "id": "6d921938-cf1c-47ce-a70f-52e841f87ac2",
   "metadata": {},
   "outputs": [],
   "source": [
    "x=x-y"
   ]
  },
  {
   "cell_type": "code",
   "execution_count": 37,
   "id": "eff8393a-a32a-4268-a2dd-3c4d0784b507",
   "metadata": {},
   "outputs": [
    {
     "name": "stdout",
     "output_type": "stream",
     "text": [
      "swapped values:\n",
      "x: 5\n",
      "y: 4\n"
     ]
    }
   ],
   "source": [
    "print ('swapped values:')\n",
    "print ('x:', x)\n",
    "print ('y:', y)"
   ]
  },
  {
   "cell_type": "code",
   "execution_count": 38,
   "id": "8122eb89-bf8b-486e-964b-a49ca24b630b",
   "metadata": {},
   "outputs": [],
   "source": [
    "# Added two variables and subtracted second value from the sum and thenn subtracted the latest second value from sum to get the swapped integers"
   ]
  },
  {
   "cell_type": "markdown",
   "id": "54de1720-b21a-4aa7-b67c-474cf9634c44",
   "metadata": {},
   "source": [
    "2. Create a program that calculates the area of a rectangle. Take the length and width as inputs from the user and store them in variables. Calculate and display the area."
   ]
  },
  {
   "cell_type": "code",
   "execution_count": 39,
   "id": "69c3f7cf-3b23-44a8-8a2d-779a88fb9bdd",
   "metadata": {},
   "outputs": [
    {
     "name": "stdin",
     "output_type": "stream",
     "text": [
      " 2.3\n"
     ]
    }
   ],
   "source": [
    "u= float (input())"
   ]
  },
  {
   "cell_type": "code",
   "execution_count": 40,
   "id": "2b209b5a-684d-45b0-bf9d-227ad4513202",
   "metadata": {},
   "outputs": [
    {
     "name": "stdin",
     "output_type": "stream",
     "text": [
      " 4.6\n"
     ]
    }
   ],
   "source": [
    "v= float(input())"
   ]
  },
  {
   "cell_type": "code",
   "execution_count": 41,
   "id": "1867c18f-1905-45e0-8bac-cf685cf4363a",
   "metadata": {},
   "outputs": [],
   "source": [
    "area = u*v"
   ]
  },
  {
   "cell_type": "code",
   "execution_count": 42,
   "id": "e82c50d8-a456-4f11-a8c0-b4b9df3629bb",
   "metadata": {},
   "outputs": [
    {
     "name": "stdout",
     "output_type": "stream",
     "text": [
      "Area of rectangle is 10.579999999999998\n"
     ]
    }
   ],
   "source": [
    "print ('Area of rectangle is', area)"
   ]
  },
  {
   "cell_type": "code",
   "execution_count": 43,
   "id": "5f92f1c4-3dd2-4e5d-ae20-7ba501cc2133",
   "metadata": {},
   "outputs": [],
   "source": [
    "# u is the length and v is considered as width of rectangle, Area of rectangle = u*v"
   ]
  },
  {
   "cell_type": "markdown",
   "id": "98d25628-8f82-43c8-ac4f-5cc0c99500d7",
   "metadata": {},
   "source": [
    "3. Write a Python program that converts temperatures from Celsius to Fahrenheit. Take the temperature in Celsius as input, store it in a variable, convert it to Fahrenheit, and display the result."
   ]
  },
  {
   "cell_type": "code",
   "execution_count": 44,
   "id": "ee024dcd-4abb-43d6-a4f2-fd1bd69d1221",
   "metadata": {},
   "outputs": [],
   "source": [
    "Temperature_celcius= 40.3"
   ]
  },
  {
   "cell_type": "code",
   "execution_count": 50,
   "id": "de471a28-df89-4632-ba66-d9897ccfc4ff",
   "metadata": {},
   "outputs": [],
   "source": [
    "Temperature_farhenheit = (Temperature_celcius*9/5)+32"
   ]
  },
  {
   "cell_type": "code",
   "execution_count": 52,
   "id": "ddab3532-9f38-4afd-beee-035aec0214be",
   "metadata": {},
   "outputs": [
    {
     "name": "stdout",
     "output_type": "stream",
     "text": [
      "This is the coverted temperature in Farhenheit: 104.53999999999999\n"
     ]
    }
   ],
   "source": [
    "print ('This is the coverted temperature in Farhenheit:', Temperature_farhenheit)"
   ]
  },
  {
   "cell_type": "code",
   "execution_count": 56,
   "id": "9770935d-618a-4e11-a030-d574b428987a",
   "metadata": {},
   "outputs": [],
   "source": [
    "#Formula to convert celcius to farhenheit is (celcius*9/5)+32"
   ]
  },
  {
   "cell_type": "markdown",
   "id": "cbee9b15-f165-4031-bacc-fb6b53768f37",
   "metadata": {},
   "source": [
    "\n",
    "\n",
    "\n",
    "##TOPIC: String Based Questions"
   ]
  },
  {
   "cell_type": "markdown",
   "id": "25446e5f-c0cd-4380-9228-11bf02f28712",
   "metadata": {},
   "source": [
    "1. Write a Python program that takes a string as input and prints the length of the string."
   ]
  },
  {
   "cell_type": "code",
   "execution_count": 57,
   "id": "67c82943-ad8c-4f21-b85f-3890fe17ba69",
   "metadata": {},
   "outputs": [],
   "source": [
    "x='Vedanth'"
   ]
  },
  {
   "cell_type": "code",
   "execution_count": 59,
   "id": "7a5c962a-c8ba-49ae-93c1-9efbc27efa68",
   "metadata": {},
   "outputs": [],
   "source": [
    "y=len(x)"
   ]
  },
  {
   "cell_type": "code",
   "execution_count": 60,
   "id": "9c2ccc62-810a-4471-8ca6-63e81fe62b81",
   "metadata": {},
   "outputs": [
    {
     "name": "stdout",
     "output_type": "stream",
     "text": [
      "length of string x is: 7\n"
     ]
    }
   ],
   "source": [
    "print('length of string x is:', y)"
   ]
  },
  {
   "cell_type": "markdown",
   "id": "da1bc95f-8ccb-4a97-953c-f553379cad79",
   "metadata": {},
   "source": [
    "2. Create a program that takes a sentence from the user and counts the number of vowels (a, e, i, o, u) in the string."
   ]
  },
  {
   "cell_type": "code",
   "execution_count": 77,
   "id": "d2a8b642-d324-41f5-b9b2-afb66fd6b835",
   "metadata": {},
   "outputs": [],
   "source": [
    "x= 'I started learning data science pro caourse at PWSkills from sudhanshu'"
   ]
  },
  {
   "cell_type": "code",
   "execution_count": 78,
   "id": "bc4f4d55-fbc9-4edf-8d83-f735f34b8236",
   "metadata": {},
   "outputs": [],
   "source": [
    "vowel_to_be_counted = 'a'"
   ]
  },
  {
   "cell_type": "code",
   "execution_count": 79,
   "id": "aa2c2c9a-65db-4972-859a-d5af557caa9c",
   "metadata": {},
   "outputs": [],
   "source": [
    "count=x.count(vowel_to_be_counted)"
   ]
  },
  {
   "cell_type": "code",
   "execution_count": 81,
   "id": "75bdf8a6-c93f-4003-adea-1bc0b9fcc8d5",
   "metadata": {},
   "outputs": [
    {
     "name": "stdout",
     "output_type": "stream",
     "text": [
      "a: 7\n"
     ]
    }
   ],
   "source": [
    "print('a:', count)"
   ]
  },
  {
   "cell_type": "code",
   "execution_count": 82,
   "id": "e1715bcf-f468-4f17-9885-5da513f726f9",
   "metadata": {},
   "outputs": [],
   "source": [
    "vowel_to_be_counted = 'e'"
   ]
  },
  {
   "cell_type": "code",
   "execution_count": 83,
   "id": "745fb170-16ef-4397-8180-dcbe74872007",
   "metadata": {},
   "outputs": [],
   "source": [
    "count=x.count(vowel_to_be_counted)"
   ]
  },
  {
   "cell_type": "code",
   "execution_count": 84,
   "id": "3f1b9afe-b12a-47bd-8902-4e8ea211095c",
   "metadata": {},
   "outputs": [
    {
     "name": "stdout",
     "output_type": "stream",
     "text": [
      "e: 5\n"
     ]
    }
   ],
   "source": [
    "print('e:', count)"
   ]
  },
  {
   "cell_type": "code",
   "execution_count": 85,
   "id": "6d5922fe-5c64-4700-b6ac-ddc7d29d05c2",
   "metadata": {},
   "outputs": [],
   "source": [
    "vowel_to_be_counted = 'i'"
   ]
  },
  {
   "cell_type": "code",
   "execution_count": 86,
   "id": "d3b55e5b-d1eb-4a6b-8cfa-9af9064ce76a",
   "metadata": {},
   "outputs": [],
   "source": [
    "count=x.count(vowel_to_be_counted)"
   ]
  },
  {
   "cell_type": "code",
   "execution_count": 87,
   "id": "f079310e-bd6f-4423-966e-4617cf06c054",
   "metadata": {},
   "outputs": [
    {
     "name": "stdout",
     "output_type": "stream",
     "text": [
      "i: 3\n"
     ]
    }
   ],
   "source": [
    "print('i:', count)"
   ]
  },
  {
   "cell_type": "code",
   "execution_count": 91,
   "id": "ebfc927e-07fa-45b2-8132-f102a09e36dc",
   "metadata": {},
   "outputs": [],
   "source": [
    "vowel_to_be_counted = 'o'"
   ]
  },
  {
   "cell_type": "code",
   "execution_count": 92,
   "id": "f2c1fa1c-3c60-434d-a93f-28967b1b5cb7",
   "metadata": {},
   "outputs": [],
   "source": [
    "count=x.count(vowel_to_be_counted)"
   ]
  },
  {
   "cell_type": "code",
   "execution_count": 93,
   "id": "9df74112-57f7-4b7a-b450-de1d4a7814c0",
   "metadata": {},
   "outputs": [
    {
     "name": "stdout",
     "output_type": "stream",
     "text": [
      "o: 3\n"
     ]
    }
   ],
   "source": [
    "print('o:', count)"
   ]
  },
  {
   "cell_type": "code",
   "execution_count": 94,
   "id": "153ce902-b005-42c8-9654-7eaa397ddde2",
   "metadata": {},
   "outputs": [],
   "source": [
    "vowel_to_be_counted = 'u'"
   ]
  },
  {
   "cell_type": "code",
   "execution_count": 95,
   "id": "00b6136d-05de-418a-a1e7-6e64314d7860",
   "metadata": {},
   "outputs": [],
   "source": [
    "count=x.count(vowel_to_be_counted)"
   ]
  },
  {
   "cell_type": "code",
   "execution_count": 96,
   "id": "ec9215c9-2cb4-48b8-b1d1-6afc222f9c99",
   "metadata": {},
   "outputs": [
    {
     "name": "stdout",
     "output_type": "stream",
     "text": [
      "u: 3\n"
     ]
    }
   ],
   "source": [
    "print('u:', count)"
   ]
  },
  {
   "cell_type": "code",
   "execution_count": 97,
   "id": "c5828d72-97ca-4321-9b0b-01dc95e58e59",
   "metadata": {},
   "outputs": [],
   "source": [
    "#Probably i need your help to learn a other way to code this program, though i got the answer i do not think this should be the way"
   ]
  },
  {
   "cell_type": "markdown",
   "id": "c02cbd27-0adf-4499-89a1-fd73f1678b71",
   "metadata": {},
   "source": [
    "3. Given a string, reverse the order of characters using string slicing and print the reversed string."
   ]
  },
  {
   "cell_type": "code",
   "execution_count": 99,
   "id": "9a9bd89e-51b0-4fb0-9e32-e32170fd89fd",
   "metadata": {},
   "outputs": [],
   "source": [
    "h='INDIA'"
   ]
  },
  {
   "cell_type": "code",
   "execution_count": 102,
   "id": "444fc671-6f28-43c3-ba30-849dbdda5ad5",
   "metadata": {},
   "outputs": [],
   "source": [
    "k=h[-1:-6:-1]"
   ]
  },
  {
   "cell_type": "code",
   "execution_count": 103,
   "id": "90f092d5-c31d-43c2-8229-03288173e6d5",
   "metadata": {},
   "outputs": [
    {
     "name": "stdout",
     "output_type": "stream",
     "text": [
      "this is the reversed string: AIDNI\n"
     ]
    }
   ],
   "source": [
    "print('this is the reversed string:', k)"
   ]
  },
  {
   "cell_type": "markdown",
   "id": "91ac0f8c-ba85-43b7-a121-65301450e4dc",
   "metadata": {},
   "source": [
    "4. Write a program that takes a string as input and checks if it is a palindrome (reads the same forwards and backwards)."
   ]
  },
  {
   "cell_type": "code",
   "execution_count": 111,
   "id": "7ed800c3-7ca3-4774-a1f1-2125bb237d39",
   "metadata": {},
   "outputs": [],
   "source": [
    "Q='XYZvZYX'"
   ]
  },
  {
   "cell_type": "code",
   "execution_count": 115,
   "id": "6cc37bc3-0be9-473e-aef1-08ec812ddc89",
   "metadata": {},
   "outputs": [],
   "source": [
    "Q1=Q[-1:-8:-1]"
   ]
  },
  {
   "cell_type": "code",
   "execution_count": 116,
   "id": "42ffd9a9-2e54-4df2-b731-d8d428819e15",
   "metadata": {},
   "outputs": [
    {
     "name": "stdout",
     "output_type": "stream",
     "text": [
      "XYZvZYX\n"
     ]
    }
   ],
   "source": [
    "print (Q1)"
   ]
  },
  {
   "cell_type": "code",
   "execution_count": 117,
   "id": "67763e97-c8a3-43c5-89aa-abb53eb90070",
   "metadata": {},
   "outputs": [
    {
     "name": "stdout",
     "output_type": "stream",
     "text": [
      "Q is palindrome\n"
     ]
    }
   ],
   "source": [
    "if Q1==Q:\n",
    "    print('Q is palindrome')\n",
    "else:\n",
    "    print('Q is not palindrome')"
   ]
  },
  {
   "cell_type": "code",
   "execution_count": 119,
   "id": "9f81aa6f-1501-457e-be3b-3682514c9320",
   "metadata": {},
   "outputs": [],
   "source": [
    "Q2=Q[-1:-5:-1]"
   ]
  },
  {
   "cell_type": "code",
   "execution_count": 120,
   "id": "5748d0ee-edf5-4598-a254-8c8f0f1f42bf",
   "metadata": {},
   "outputs": [
    {
     "name": "stdout",
     "output_type": "stream",
     "text": [
      "XYZv\n"
     ]
    }
   ],
   "source": [
    "print(Q2)"
   ]
  },
  {
   "cell_type": "code",
   "execution_count": 121,
   "id": "9b0f71dc-76f8-4d1c-a85c-42e15b914f34",
   "metadata": {},
   "outputs": [
    {
     "name": "stdout",
     "output_type": "stream",
     "text": [
      "Q is not palindrome\n"
     ]
    }
   ],
   "source": [
    "if Q2==Q:\n",
    "    print('Q is palindrome')\n",
    "else:\n",
    "    print('Q is not palindrome')"
   ]
  },
  {
   "cell_type": "markdown",
   "id": "ae8f2c3d-269c-4cab-84d5-b0e9d40f2bfa",
   "metadata": {},
   "source": [
    "5. Create a program that takes a string as input and removes all the spaces from it, Print the modified string without spaces."
   ]
  },
  {
   "cell_type": "code",
   "execution_count": 122,
   "id": "1dd6fb61-11b0-4003-8bd3-7d75437e6468",
   "metadata": {},
   "outputs": [],
   "source": [
    "India= '    Is     a      Great     nation     '"
   ]
  },
  {
   "cell_type": "code",
   "execution_count": 126,
   "id": "5140c6bb-d789-49fc-a1a6-582432a9b914",
   "metadata": {},
   "outputs": [],
   "source": [
    "b=' '.join(India.split())"
   ]
  },
  {
   "cell_type": "code",
   "execution_count": 127,
   "id": "91dcd4ad-e54d-4452-a65d-3afe42ebbd64",
   "metadata": {},
   "outputs": [
    {
     "name": "stdout",
     "output_type": "stream",
     "text": [
      "Is a Great nation\n"
     ]
    }
   ],
   "source": [
    "print (b)"
   ]
  },
  {
   "cell_type": "code",
   "execution_count": 133,
   "id": "a054d12b-c3c5-4c07-9502-b0e897c6bd0c",
   "metadata": {},
   "outputs": [
    {
     "name": "stdout",
     "output_type": "stream",
     "text": [
      "India Is a Great nation\n"
     ]
    }
   ],
   "source": [
    "print ('India', b)"
   ]
  }
 ],
 "metadata": {
  "kernelspec": {
   "display_name": "Python 3 (ipykernel)",
   "language": "python",
   "name": "python3"
  },
  "language_info": {
   "codemirror_mode": {
    "name": "ipython",
    "version": 3
   },
   "file_extension": ".py",
   "mimetype": "text/x-python",
   "name": "python",
   "nbconvert_exporter": "python",
   "pygments_lexer": "ipython3",
   "version": "3.10.8"
  }
 },
 "nbformat": 4,
 "nbformat_minor": 5
}
